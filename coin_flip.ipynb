{
 "cells": [
  {
   "cell_type": "markdown",
   "metadata": {},
   "source": [
    "# EE364 Coin Flipping Example\n",
    "This is a simple example for a random experiment that we will perform as a class in our first meeting.  It illustrates a number of topics in the class which we will discuss during the semester, including the difference between probability ans statistics.  We can return to this as we progress during the semester."
   ]
  },
  {
   "cell_type": "code",
   "execution_count": 1,
   "metadata": {},
   "outputs": [],
   "source": [
    "import numpy as np\n",
    "import scipy.stats as stats\n",
    "import matplotlib.pyplot as plt"
   ]
  },
  {
   "cell_type": "markdown",
   "metadata": {},
   "source": [
    "This simulates a class of size `N_students` where each student flips a coin (with heads probability `p`) `N_flips` times.  "
   ]
  },
  {
   "cell_type": "code",
   "execution_count": 2,
   "metadata": {},
   "outputs": [],
   "source": [
    "N_students = 100000 # <<---- change this to adjust class size\n",
    "N_flips = 10\n",
    "p = 1.0 / 2.0  \n",
    "np.random.seed(123)  # <<---- change this to get a \"new class\""
   ]
  },
  {
   "cell_type": "markdown",
   "metadata": {},
   "source": [
    "This is a well-known problem in probability, so the results for the theoretical model for this experiment are built into Python.  The following code snippet fills produces an array `binomial_pmf` with `binomial_pmf[k]` being the probability that `k` heads will be observed when a coin is flipped `N_flips` times."
   ]
  },
  {
   "cell_type": "code",
   "execution_count": 3,
   "metadata": {},
   "outputs": [],
   "source": [
    "heads = np.arange(0, N_flips + 1)\n",
    "binomial_pmf = stats.binom.pmf(heads, N_flips, p)"
   ]
  },
  {
   "cell_type": "markdown",
   "metadata": {},
   "source": [
    "Python also has built-in functions to run this experiment `N_students` times -- note that this is different from the theory above since it is simulating the actual random experiments of flipping the coin."
   ]
  },
  {
   "cell_type": "code",
   "execution_count": 8,
   "metadata": {},
   "outputs": [],
   "source": [
    "flip_results = np.random.binomial(N_flips, p, N_students)\n",
    "flip_counts = np.zeros(N_flips + 1)\n",
    "\n",
    "## count the number of times k flips were obtained in these N_students experiments\n",
    "for k in range(N_flips + 1):\n",
    "    flip_counts[k] = np.sum(flip_results == k)"
   ]
  },
  {
   "cell_type": "markdown",
   "metadata": {},
   "source": [
    "This computes an estimate of `p`, the probability of heads, based on the experiments.  It also computes a \"Margin of Error\" for our estimate. "
   ]
  },
  {
   "cell_type": "code",
   "execution_count": null,
   "metadata": {},
   "outputs": [],
   "source": [
    "p_hat = flip_counts / N_students\n",
    "MOE = np.zeros( (2, N_flips + 1) )\n",
    "MOE[0] = 1.96 * np.sqrt( p_hat * (1.0 - p_hat) / N_students  )\n",
    "\n",
    "print(\"number of students =\",N_students)\n",
    "print(\"number of flips =\",N_flips)\n",
    "print(\"probability of heads =\",p)\n",
    "\n",
    "print(\"\\n\\nk p(k) n(k) p_hat(k) MOE(k)\\n\")\n",
    "\n",
    "for k in range(len(p_hat)):\n",
    "    if flip_counts[k] == 0 : \n",
    "        MOE[1][k] = 3.0 / N_students\n",
    "    else:\n",
    "        MOE[1][k] = MOE[0][k]\n",
    "    print(k,\"{:0.4g}\".format(binomial_pmf[k]), flip_counts[k], \"{:0.4g}\".format(p_hat[k]), \"{:0.4g}\".format(MOE[1][k]), sep=\" \")\n",
    "\n",
    "\"\"\"\n",
    "print(\"\\n\\n\")\n",
    "for k in range(len(p_hat)):\n",
    "    print(p_hat[k])\n",
    "\"\"\"\n",
    "\n",
    "MOE[0] = np.clip(MOE[0], 0, p_hat )  # limit confidence region to be > 0\n"
   ]
  }
 ],
 "metadata": {
  "interpreter": {
   "hash": "6200758b7673adf34ae50bfa4217006f2c557feffe45080c236eaee64db53788"
  },
  "kernelspec": {
   "display_name": "Python 3.8.12 64-bit ('ee364': conda)",
   "language": "python",
   "name": "python3"
  },
  "language_info": {
   "codemirror_mode": {
    "name": "ipython",
    "version": 3
   },
   "file_extension": ".py",
   "mimetype": "text/x-python",
   "name": "python",
   "nbconvert_exporter": "python",
   "pygments_lexer": "ipython3",
   "version": "3.8.12"
  },
  "orig_nbformat": 4
 },
 "nbformat": 4,
 "nbformat_minor": 2
}
