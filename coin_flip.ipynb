{
 "cells": [
  {
   "cell_type": "markdown",
   "metadata": {},
   "source": [
    "# EE364 Coin Flipping Example\n",
    "This is a simple example for a random experiment that we will perform as a class in our first meeting.  It illustrates a number of topics in the class which we will discuss during the semester, including the difference between probability and statistics.  We can return to this as we progress during the semester."
   ]
  },
  {
   "cell_type": "code",
   "execution_count": 3,
   "metadata": {},
   "outputs": [],
   "source": [
    "import numpy as np\n",
    "import scipy.stats as stats\n",
    "import matplotlib as mpl\n",
    "import matplotlib.pyplot as plt"
   ]
  },
  {
   "cell_type": "markdown",
   "metadata": {},
   "source": [
    "This simulates a class of size `N_students` where each student flips a coin (with heads probability `p`) `N_flips` times.  "
   ]
  },
  {
   "cell_type": "code",
   "execution_count": 41,
   "metadata": {},
   "outputs": [],
   "source": [
    "N_students = 10000 # <<---- change this to adjust class size\n",
    "N_flips = 10\n",
    "p = 0.75 \n",
    "np.random.seed(123)  # <<---- change this to get a \"new class\""
   ]
  },
  {
   "cell_type": "markdown",
   "metadata": {},
   "source": [
    "This is a well-known problem in probability, so the results for the theoretical model for this experiment are built into Python.  The following code snippet produces an array `binomial_pmf` with `binomial_pmf[k]` being the probability that `k` heads will be observed when a coin is flipped `N_flips` times."
   ]
  },
  {
   "cell_type": "code",
   "execution_count": 42,
   "metadata": {},
   "outputs": [],
   "source": [
    "heads = np.arange(0, N_flips + 1)\n",
    "binomial_pmf = stats.binom.pmf(heads, N_flips, p)"
   ]
  },
  {
   "cell_type": "markdown",
   "metadata": {},
   "source": [
    "Python also has built-in functions to run this experiment `N_students` times -- note that this is different from the theory above since it is simulating the actual random experiments of flipping the coin."
   ]
  },
  {
   "cell_type": "code",
   "execution_count": 43,
   "metadata": {},
   "outputs": [],
   "source": [
    "flip_results = np.random.binomial(N_flips, p, N_students)\n",
    "flip_counts = np.zeros(N_flips + 1)\n",
    "\n",
    "## count the number of times k flips were obtained in these N_students experiments\n",
    "for k in range(N_flips + 1):\n",
    "    flip_counts[k] = np.sum(flip_results == k)"
   ]
  },
  {
   "cell_type": "markdown",
   "metadata": {},
   "source": [
    "This code below computes an estimate of `pmf_hat[k]`, the probability of getting `k` heads out of `N_flips` flips, as the relative frequency of occurance of heads during the experiments.  It also computes a \"Margin of Error\" for our estimate, which is a measure of our statistcial confidence in this estimate. "
   ]
  },
  {
   "cell_type": "code",
   "execution_count": 44,
   "metadata": {},
   "outputs": [
    {
     "name": "stdout",
     "output_type": "stream",
     "text": [
      "number of students = 10000\n",
      "number of flips =  10\n",
      "probability of heads = 0.75\n",
      "\n",
      "k\tpmf(k)\t\tn(k)\tpmf_hat(k)\tMOE(k)\n",
      "0:\t 9.5367e-07\t   0\t 0.0000e+00\t 0.0003\n",
      "1:\t 2.8610e-05\t   0\t 0.0000e+00\t 0.0003\n",
      "2:\t 3.8624e-04\t   2\t 2.0000e-04\t 0.0002772\n",
      "3:\t 3.0899e-03\t  20\t 2.0000e-03\t 0.0008757\n",
      "4:\t 1.6222e-02\t 163\t 1.6300e-02\t 0.002482\n",
      "5:\t 5.8399e-02\t 576\t 5.7600e-02\t 0.004567\n",
      "6:\t 1.4600e-01\t 1421\t 1.4210e-01\t 0.006843\n",
      "7:\t 2.5028e-01\t 2597\t 2.5970e-01\t 0.008594\n",
      "8:\t 2.8157e-01\t 2717\t 2.7170e-01\t 0.008719\n",
      "9:\t 1.8771e-01\t 1947\t 1.9470e-01\t 0.007761\n",
      "10:\t 5.6314e-02\t 557\t 5.5700e-02\t 0.004495\n"
     ]
    }
   ],
   "source": [
    "pmf_hat = flip_counts / N_students\n",
    "MOE = np.zeros((2, N_flips + 1))  ## upper and lower error range for each \n",
    "MOE[0] = 1.96 * np.sqrt( pmf_hat * (1.0 - pmf_hat) / N_students  )\n",
    " \n",
    "print(f'number of students = {N_students}')\n",
    "print(f'number of flips =  {N_flips}')\n",
    "print(f'probability of heads = {p}')\n",
    "print('\\nk\\tpmf(k)\\t\\tn(k)\\tpmf_hat(k)\\tMOE(k)')\n",
    "\n",
    "for k in range(len(pmf_hat)):\n",
    "    if flip_counts[k] == 0 : \n",
    "        MOE[1][k] = 3 / N_students\n",
    "    else:\n",
    "        MOE[1][k] = MOE[0][k]\n",
    "    print(f'{k}:\\t{binomial_pmf[k] : 0.4e}\\t{flip_counts[k] : 4.0f}\\t{pmf_hat[k] : 0.4e}\\t{MOE[1][k] : 0.4g}')\n",
    "\n",
    "MOE[0] = np.clip(MOE[0], 0, pmf_hat )  # limit confidence region to be > 0 since we know probabilities are >=0\n"
   ]
  },
  {
   "cell_type": "markdown",
   "metadata": {},
   "source": [
    "Finally, let's plot the theoretical model for the probability of getting `k` heads in `N_flips` and compare that to the fraction of students who observed `k` heads during their experiment."
   ]
  },
  {
   "cell_type": "code",
   "execution_count": 46,
   "metadata": {},
   "outputs": [
    {
     "data": {
      "text/plain": [
       "<matplotlib.legend.Legend at 0x13ff1ae50>"
      ]
     },
     "execution_count": 46,
     "metadata": {},
     "output_type": "execute_result"
    },
    {
     "data": {
      "image/png": "[encoded data removed]",
      "text/plain": [
       "<Figure size 720x504 with 1 Axes>"
      ]
     },
     "metadata": {
      "needs_background": "light"
     },
     "output_type": "display_data"
    }
   ],
   "source": [
    "# swiped from: https://matplotlib.org/examples/api/barchart_demo.html\n",
    "width = 0.35 \n",
    "mpl.rcParams[\"errorbar.capsize\"] = 4     \n",
    "fig, ax = plt.subplots(figsize=(10,7))\n",
    "rects1 = ax.bar(heads, binomial_pmf, width)\n",
    "rects2 = ax.bar(heads+width, pmf_hat, width, yerr=MOE)\n",
    "ax.set_xticks(heads + width / 2)\n",
    "ax.set_xticklabels(heads)\n",
    "ax.set_title('Results of Coin Flipping Experiment')\n",
    "ax.set_xlabel(f'number of heads in {N_flips} flips')\n",
    "ax.set_ylabel(f'probability or relative frequency')\n",
    "ax.legend((rects1[0], rects2[0]), ('Model', 'Experimental'))"
   ]
  }
 ],
 "metadata": {
  "interpreter": {
   "hash": "6200758b7673adf34ae50bfa4217006f2c557feffe45080c236eaee64db53788"
  },
  "kernelspec": {
   "display_name": "Python 3.8.12 64-bit ('ee364': conda)",
   "language": "python",
   "name": "python3"
  },
  "language_info": {
   "codemirror_mode": {
    "name": "ipython",
    "version": 3
   },
   "file_extension": ".py",
   "mimetype": "text/x-python",
   "name": "python",
   "nbconvert_exporter": "python",
   "pygments_lexer": "ipython3",
   "version": "3.8.12"
  },
  "orig_nbformat": 4
 },
 "nbformat": 4,
 "nbformat_minor": 2
}
