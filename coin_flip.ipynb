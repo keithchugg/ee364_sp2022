{
 "cells": [
  {
   "cell_type": "markdown",
   "metadata": {},
   "source": [
    "# EE364 Coin Flipping Example\n",
    "This is a simple example for a random experiment that we will perform as a class in our first meeting.  It illustrates a number of topics in the class which we will discuss during the semester, including the difference between probability ans statistics.  We can return to this as we progress during the semester."
   ]
  },
  {
   "cell_type": "code",
   "execution_count": 38,
   "metadata": {},
   "outputs": [],
   "source": [
    "import numpy as np\n",
    "import scipy.stats as stats\n",
    "import matplotlib as mpl\n",
    "import matplotlib.pyplot as plt"
   ]
  },
  {
   "cell_type": "markdown",
   "metadata": {},
   "source": [
    "This simulates a class of size `N_students` where each student flips a coin (with heads probability `p`) `N_flips` times.  "
   ]
  },
  {
   "cell_type": "code",
   "execution_count": 39,
   "metadata": {},
   "outputs": [],
   "source": [
    "N_students = 500 # <<---- change this to adjust class size\n",
    "N_flips = 10\n",
    "p = 1.0 / 2.0  \n",
    "np.random.seed(123)  # <<---- change this to get a \"new class\""
   ]
  },
  {
   "cell_type": "markdown",
   "metadata": {},
   "source": [
    "This is a well-known problem in probability, so the results for the theoretical model for this experiment are built into Python.  The following code snippet fills produces an array `binomial_pmf` with `binomial_pmf[k]` being the probability that `k` heads will be observed when a coin is flipped `N_flips` times."
   ]
  },
  {
   "cell_type": "code",
   "execution_count": 40,
   "metadata": {},
   "outputs": [],
   "source": [
    "heads = np.arange(0, N_flips + 1)\n",
    "binomial_pmf = stats.binom.pmf(heads, N_flips, p)"
   ]
  },
  {
   "cell_type": "markdown",
   "metadata": {},
   "source": [
    "Python also has built-in functions to run this experiment `N_students` times -- note that this is different from the theory above since it is simulating the actual random experiments of flipping the coin."
   ]
  },
  {
   "cell_type": "code",
   "execution_count": 41,
   "metadata": {},
   "outputs": [],
   "source": [
    "flip_results = np.random.binomial(N_flips, p, N_students)\n",
    "flip_counts = np.zeros(N_flips + 1)\n",
    "\n",
    "## count the number of times k flips were obtained in these N_students experiments\n",
    "for k in range(N_flips + 1):\n",
    "    flip_counts[k] = np.sum(flip_results == k)"
   ]
  },
  {
   "cell_type": "markdown",
   "metadata": {},
   "source": [
    "This computes an estimate of `p`, the probability of heads, based on the experiments.  It also computes a \"Margin of Error\" for our estimate. "
   ]
  },
  {
   "cell_type": "code",
   "execution_count": 42,
   "metadata": {},
   "outputs": [
    {
     "name": "stdout",
     "output_type": "stream",
     "text": [
      "number of students = 500\n",
      "number of flips =  10\n",
      "probability of heads = 0.5\n",
      "\n",
      "k p(k) n(k) p_hat(k) MOE(k)\n",
      "\n",
      "0:    0.0009766   1.0    0.002    0.003916\n",
      "1:    0.009766   7.0    0.014    0.0103\n",
      "2:    0.04395   24.0    0.048    0.01874\n",
      "3:    0.1172   49.0    0.098    0.02606\n",
      "4:    0.2051   116.0    0.232    0.037\n",
      "5:    0.2461   120.0    0.24    0.03744\n",
      "6:    0.2051   98.0    0.196    0.0348\n",
      "7:    0.1172   59.0    0.118    0.02828\n",
      "8:    0.04395   22.0    0.044    0.01798\n",
      "9:    0.009766   4.0    0.008    0.007809\n",
      "10:    0.0009766   0.0    0    0.006\n"
     ]
    }
   ],
   "source": [
    "p_hat = flip_counts / N_students\n",
    "MOE = np.zeros((2, N_flips + 1))  ## upper and lower error range for each \n",
    "MOE[0] = 1.96 * np.sqrt( p_hat * (1.0 - p_hat) / N_students  )\n",
    " \n",
    "print(f'number of students = {N_students}')\n",
    "print(f'number of flips =  {N_flips}')\n",
    "print(f'probability of heads = {p}')\n",
    "print('\\nk p(k) n(k) p_hat(k) MOE(k)\\n')\n",
    "\n",
    "for k in range(len(p_hat)):\n",
    "    if flip_counts[k] == 0 : \n",
    "        MOE[1][k] = 3 / N_students\n",
    "    else:\n",
    "        MOE[1][k] = MOE[0][k]\n",
    "    print(f'{k}:   {binomial_pmf[k] : 0.4g}   {flip_counts[k]}   {p_hat[k] : 0.4g}   {MOE[1][k] : 0.4g}')\n",
    "\n",
    "MOE[0] = np.clip(MOE[0], 0, p_hat )  # limit confidence region to be > 0 since we know probabilities are >=0\n"
   ]
  },
  {
   "cell_type": "markdown",
   "metadata": {},
   "source": [
    "Finally, let's plot the theoretical model for the probability of getting `k` heads in `N_flips` and compare that to the fraction of students show observed `k` heads during their experiment."
   ]
  },
  {
   "cell_type": "code",
   "execution_count": 44,
   "metadata": {},
   "outputs": [
    {
     "data": {
      "text/plain": [
       "<matplotlib.legend.Legend at 0x12fedcdf0>"
      ]
     },
     "execution_count": 44,
     "metadata": {},
     "output_type": "execute_result"
    },
    {
     "data": {
      "image/png": "[encoded data removed]",
      "text/plain": [
       "<Figure size 720x504 with 1 Axes>"
      ]
     },
     "metadata": {
      "needs_background": "light"
     },
     "output_type": "display_data"
    }
   ],
   "source": [
    "# swiped from: https://matplotlib.org/examples/api/barchart_demo.html\n",
    "width = 0.35 \n",
    "mpl.rcParams[\"errorbar.capsize\"] = 4     \n",
    "fig, ax = plt.subplots(figsize=(10,7))\n",
    "rects1 = ax.bar(heads, binomial_pmf, width)\n",
    "rects2 = ax.bar(heads+width, p_hat, width, yerr=MOE)\n",
    "ax.set_xticks(heads + width / 2)\n",
    "ax.set_xticklabels(heads)\n",
    "ax.set_title('Results of Coin Flipping Experiment')\n",
    "ax.legend((rects1[0], rects2[0]), ('Model', 'Experimental'))"
   ]
  }
 ],
 "metadata": {
  "interpreter": {
   "hash": "6200758b7673adf34ae50bfa4217006f2c557feffe45080c236eaee64db53788"
  },
  "kernelspec": {
   "display_name": "Python 3.8.12 64-bit ('ee364': conda)",
   "language": "python",
   "name": "python3"
  },
  "language_info": {
   "codemirror_mode": {
    "name": "ipython",
    "version": 3
   },
   "file_extension": ".py",
   "mimetype": "text/x-python",
   "name": "python",
   "nbconvert_exporter": "python",
   "pygments_lexer": "ipython3",
   "version": "3.8.12"
  },
  "orig_nbformat": 4
 },
 "nbformat": 4,
 "nbformat_minor": 2
}
