{
 "cells": [
  {
   "cell_type": "markdown",
   "id": "bb8be2f1",
   "metadata": {},
   "source": [
    "### Simulating marginal and conditional PMFs\n",
    "\n",
    "In this example we will simulate the marginal and conditional PMFs for a given discrete distribution. \n",
    "First we create arrays that contain the range for data points in each component."
   ]
  },
  {
   "cell_type": "code",
   "execution_count": 1,
   "id": "0f52480e-65e2-4a6c-a194-e359cb0cd81f",
   "metadata": {},
   "outputs": [
    {
     "name": "stdout",
     "output_type": "stream",
     "text": [
      "x: [-2. -1.  0.  1.  2.]\n"
     ]
    }
   ],
   "source": [
    "import numpy as np\n",
    "import matplotlib.pyplot as plt\n",
    "import random\n",
    "\n",
    "x_points=np.arange(-2,2.1,1)\n",
    "y_points=np.arange(-2,2.1,1)\n",
    "\n",
    "print('x:',x_points)"
   ]
  },
  {
   "cell_type": "markdown",
   "id": "2874cbfc",
   "metadata": {},
   "source": [
    "First, we create an array with each row being a unique (x,y) pair. As we're going to randomly choose from this points, no repetitions are allowed. "
   ]
  },
  {
   "cell_type": "code",
   "execution_count": 2,
   "id": "6489c2c1-f546-435e-92dc-78a8d9f2ad5c",
   "metadata": {},
   "outputs": [
    {
     "name": "stdout",
     "output_type": "stream",
     "text": [
      "All possible points for this distribution: \n",
      " [[-2.  0.]\n",
      " [-1. -1.]\n",
      " [-1.  0.]\n",
      " [-1.  1.]\n",
      " [ 0. -2.]\n",
      " [ 0. -1.]\n",
      " [ 0.  0.]\n",
      " [ 0.  1.]\n",
      " [ 0.  2.]\n",
      " [ 1. -1.]\n",
      " [ 1.  0.]\n",
      " [ 1.  1.]\n",
      " [ 2.  0.]]\n"
     ]
    }
   ],
   "source": [
    "points=np.array([]).reshape(0,2)\n",
    "\n",
    "for i in x_points:\n",
    "    y=np.arange(-2+abs(i),2-abs(i)+0.1,1)\n",
    "    x = np.array([i] * y.shape[0]) \n",
    "    #makes copies of the same x for each y\n",
    "    #for example, if y=-1, x=[-1 0 1]\n",
    "    \n",
    "    pairs=np.concatenate(([x], [y]), axis=0).T\n",
    "    points=np.concatenate((points,pairs), axis=0)\n",
    "    #creates the x,y pairs for a given x and adds to the points array\n",
    "    \n",
    "print('All possible points for this distribution: \\n',points)"
   ]
  },
  {
   "cell_type": "markdown",
   "id": "33fb9090",
   "metadata": {},
   "source": [
    "#### Plotting the points"
   ]
  },
  {
   "cell_type": "code",
   "execution_count": 3,
   "id": "fdea4e90-c3ef-4756-b4c3-20848c1d65f0",
   "metadata": {},
   "outputs": [
    {
     "data": {
      "image/png": "[encoded data removed]",
      "text/plain": [
       "<Figure size 432x288 with 1 Axes>"
      ]
     },
     "metadata": {
      "needs_background": "light"
     },
     "output_type": "display_data"
    }
   ],
   "source": [
    "plt.plot(points[:,0],points[:,1],'bo')\n",
    "plt.xlabel('x')\n",
    "plt.ylabel('y')\n",
    "plt.title('Distribution points')\n",
    "plt.grid(True)"
   ]
  },
  {
   "cell_type": "markdown",
   "id": "f6ab9377",
   "metadata": {},
   "source": [
    "As the distribution is uniform on these points, the probability of each points:"
   ]
  },
  {
   "cell_type": "code",
   "execution_count": 5,
   "id": "333dc072-be8e-4969-b996-30e9012dcc9c",
   "metadata": {},
   "outputs": [
    {
     "name": "stdout",
     "output_type": "stream",
     "text": [
      "p= 0.07692307692307693 theoretical: 0.07692307692307693\n"
     ]
    }
   ],
   "source": [
    "p=1/points.shape[0]\n",
    "print('p=',p, 'theoretical:',1/13)"
   ]
  },
  {
   "cell_type": "markdown",
   "id": "f1ac0e41",
   "metadata": {},
   "source": [
    "To choose a random point from these, we shuffle the rows of the points array and choose the first row."
   ]
  },
  {
   "cell_type": "code",
   "execution_count": 10,
   "id": "4c12074b-9829-4575-a958-d1a75f67757f",
   "metadata": {},
   "outputs": [
    {
     "name": "stdout",
     "output_type": "stream",
     "text": [
      "[[0. 1.]]\n"
     ]
    }
   ],
   "source": [
    "np.random.shuffle(points)\n",
    "print(points[:1,:])"
   ]
  },
  {
   "cell_type": "markdown",
   "id": "2a7a4270",
   "metadata": {},
   "source": [
    "We repeat this random selection many times and create an array of all outputs."
   ]
  },
  {
   "cell_type": "code",
   "execution_count": 12,
   "id": "a00169fb-01ef-423e-bba0-424464dbf5a1",
   "metadata": {},
   "outputs": [],
   "source": [
    "trials = 100000\n",
    "\n",
    "random_draws=np.array([]).reshape(0,2)\n",
    "\n",
    "for i in range(trials):\n",
    "    np.random.shuffle(points)\n",
    "    random_draws=np.concatenate((random_draws,points[:1,:]), axis=0)\n",
    "    \n",
    "#print(random_draws)"
   ]
  },
  {
   "cell_type": "markdown",
   "id": "9f236eba",
   "metadata": {},
   "source": [
    "Having this array with the random selections, we can now find the PMFs we are interested in. The P_x(-1) for example is the number of rows for which x=-1 divided by the trials."
   ]
  },
  {
   "cell_type": "code",
   "execution_count": 13,
   "id": "1c668f71-00d2-4e9a-8728-9de9c153aee3",
   "metadata": {},
   "outputs": [
    {
     "name": "stdout",
     "output_type": "stream",
     "text": [
      "example: PX(-1)= 0.23161 theoretical: 0.23076923076923078\n"
     ]
    }
   ],
   "source": [
    "#marginal PMF for X=-1\n",
    "#random_draws[random_draws[:,0]==-1].shape[0]\n",
    "\n",
    "PX_m1=random_draws[random_draws[:,0]==-1].shape[0]/trials\n",
    "print('example: PX(-1)=',PX_m1, 'theoretical:', 3/13) "
   ]
  },
  {
   "cell_type": "markdown",
   "id": "97399911",
   "metadata": {},
   "source": [
    "#### Repeating this for all X we find the marginal PMF of X and plot it. \n",
    "\n",
    "We then repeat the same for Y."
   ]
  },
  {
   "cell_type": "code",
   "execution_count": 14,
   "id": "c0b4b034-6614-4ae0-b4d2-90eb931fd80f",
   "metadata": {},
   "outputs": [
    {
     "name": "stdout",
     "output_type": "stream",
     "text": [
      "P[x]= [0.07546 0.23161 0.38494 0.23123 0.07676]\n"
     ]
    }
   ],
   "source": [
    "PMF_X=np.zeros(x_points.shape[0])\n",
    "for i in range(x_points.shape[0]):\n",
    "    PMF_X[i]=random_draws[random_draws[:,0]==x_points[i]].shape[0]/trials\n",
    "\n",
    "print('P[x]=',PMF_X)"
   ]
  },
  {
   "cell_type": "code",
   "execution_count": 17,
   "id": "4bdf54ad-f9d7-482a-ac97-a9f66c3df791",
   "metadata": {},
   "outputs": [
    {
     "data": {
      "text/plain": [
       "Text(0.5, 1.0, 'Marginal PMF of X')"
      ]
     },
     "execution_count": 17,
     "metadata": {},
     "output_type": "execute_result"
    },
    {
     "data": {
      "image/png": "[encoded data removed]",
      "text/plain": [
       "<Figure size 432x288 with 1 Axes>"
      ]
     },
     "metadata": {
      "needs_background": "light"
     },
     "output_type": "display_data"
    }
   ],
   "source": [
    "plt.plot(x_points,PMF_X,'-o')\n",
    "plt.ylim(0,0.5)\n",
    "plt.xlabel('x')\n",
    "plt.ylabel('P(x)')\n",
    "plt.title('Marginal PMF of X')"
   ]
  },
  {
   "cell_type": "code",
   "execution_count": 18,
   "id": "fcbe2955-5bb7-4ea7-858d-b3be44e9ae01",
   "metadata": {},
   "outputs": [
    {
     "name": "stdout",
     "output_type": "stream",
     "text": [
      "1.0\n"
     ]
    }
   ],
   "source": [
    "print(np.sum(PMF_X))"
   ]
  },
  {
   "cell_type": "code",
   "execution_count": 19,
   "id": "12da59aa-5c49-4d25-877a-c5685362efcc",
   "metadata": {},
   "outputs": [
    {
     "name": "stdout",
     "output_type": "stream",
     "text": [
      "P[y]= [0.07668 0.23113 0.38294 0.23224 0.07701]\n"
     ]
    }
   ],
   "source": [
    "PMF_Y=np.zeros(y_points.shape[0])\n",
    "for i in range(y_points.shape[0]):\n",
    "    PMF_Y[i]=random_draws[random_draws[:,1]==y_points[i]].shape[0]/trials\n",
    "\n",
    "print('P[y]=',PMF_Y)"
   ]
  },
  {
   "cell_type": "code",
   "execution_count": 20,
   "id": "08eccd07-f136-4cea-83d1-99519eb43efd",
   "metadata": {},
   "outputs": [
    {
     "data": {
      "text/plain": [
       "Text(0.5, 1.0, 'Marginal PMF of Y')"
      ]
     },
     "execution_count": 20,
     "metadata": {},
     "output_type": "execute_result"
    },
    {
     "data": {
      "image/png": "[encoded data removed]",
      "text/plain": [
       "<Figure size 432x288 with 1 Axes>"
      ]
     },
     "metadata": {
      "needs_background": "light"
     },
     "output_type": "display_data"
    }
   ],
   "source": [
    "plt.plot(y_points,PMF_Y,'-o')\n",
    "plt.ylim(0,0.5)\n",
    "plt.xlabel('y')\n",
    "plt.ylabel('P(y)')\n",
    "plt.title('Marginal PMF of Y')"
   ]
  },
  {
   "cell_type": "markdown",
   "id": "92e6f50c",
   "metadata": {},
   "source": [
    "#### Similarly, we find the conditional probabilities by only counting the rows that satisfy the condition."
   ]
  },
  {
   "cell_type": "code",
   "execution_count": 21,
   "id": "db652243-5c35-478c-a8ae-8155e3da745b",
   "metadata": {},
   "outputs": [
    {
     "name": "stdout",
     "output_type": "stream",
     "text": [
      "P[x|y=1]= [0.         0.33219945 0.33306063 0.33473992 0.        ]\n"
     ]
    }
   ],
   "source": [
    "#conditional PMF of X given Y=1\n",
    "PMF_X_cond_Y_ii=np.zeros(x_points.shape[0])\n",
    "cond_random_draws=random_draws[random_draws[:,1]==1]\n",
    "#only keep the random draws with y==1\n",
    "\n",
    "for i in range(x_points.shape[0]):\n",
    "    PMF_X_cond_Y_ii[i]=cond_random_draws[cond_random_draws[:,0]==x_points[i]].shape[0]/cond_random_draws.shape[0]\n",
    "\n",
    "print('P[x|y=1]=',PMF_X_cond_Y_ii)"
   ]
  },
  {
   "cell_type": "code",
   "execution_count": 22,
   "id": "49065653-2434-46aa-ab5b-a8394f0fd61b",
   "metadata": {},
   "outputs": [
    {
     "data": {
      "text/plain": [
       "Text(0.5, 1.0, 'Conditional PMF of X given Y=1')"
      ]
     },
     "execution_count": 22,
     "metadata": {},
     "output_type": "execute_result"
    },
    {
     "data": {
      "image/png": "[encoded data removed]",
      "text/plain": [
       "<Figure size 432x288 with 1 Axes>"
      ]
     },
     "metadata": {
      "needs_background": "light"
     },
     "output_type": "display_data"
    }
   ],
   "source": [
    "plt.plot(x_points,PMF_X_cond_Y_ii,'-o')\n",
    "plt.ylim(0,0.5)\n",
    "plt.xlabel('x')\n",
    "plt.ylabel('P(x|y=1)')\n",
    "plt.title('Conditional PMF of X given Y=1')"
   ]
  },
  {
   "cell_type": "code",
   "execution_count": 24,
   "id": "0160fbf1-8375-4761-b6db-fabc5a09f40e",
   "metadata": {},
   "outputs": [
    {
     "name": "stdout",
     "output_type": "stream",
     "text": [
      "P[x|-1<y<2]= [0.12266329 0.24943919 0.25135733 0.25176371 0.12477649]\n"
     ]
    }
   ],
   "source": [
    "PMF_X_cond_Y_iv=np.zeros(x_points.shape[0])\n",
    "cond_random_draws=random_draws[np.all([\n",
    "    random_draws[:,1]>-1,random_draws[:,1]<2], axis=0)]\n",
    "for i in range(x_points.shape[0]):\n",
    "    PMF_X_cond_Y_iv[i]=cond_random_draws[cond_random_draws[:,0]==x_points[i]].shape[0]/cond_random_draws.shape[0]\n",
    "\n",
    "print('P[x|-1<y<2]=',PMF_X_cond_Y_iv)"
   ]
  },
  {
   "cell_type": "code",
   "execution_count": 25,
   "id": "e1182bf7-1081-4c70-aa33-285ae6a980cc",
   "metadata": {},
   "outputs": [
    {
     "data": {
      "text/plain": [
       "Text(0.5, 1.0, 'Conditional PMF of X given -1<Y<2')"
      ]
     },
     "execution_count": 25,
     "metadata": {},
     "output_type": "execute_result"
    },
    {
     "data": {
      "image/png": "[encoded data removed]",
      "text/plain": [
       "<Figure size 432x288 with 1 Axes>"
      ]
     },
     "metadata": {
      "needs_background": "light"
     },
     "output_type": "display_data"
    }
   ],
   "source": [
    "plt.plot(x_points,PMF_X_cond_Y_iv,'-o')\n",
    "plt.ylim(0,0.5)\n",
    "plt.xlabel('x')\n",
    "plt.ylabel('P(x|-1<y<2)')\n",
    "plt.title('Conditional PMF of X given -1<Y<2')"
   ]
  },
  {
   "cell_type": "code",
   "execution_count": 26,
   "id": "5baa0579-ef2f-4b87-a595-92b401cb88ff",
   "metadata": {},
   "outputs": [
    {
     "name": "stdout",
     "output_type": "stream",
     "text": [
      "E[x|-1<Y<2]= 0.0013101856367242037\n"
     ]
    }
   ],
   "source": [
    "print('E[x|-1<Y<2]=',np.mean(PMF_X_cond_Y_iv*x_points))"
   ]
  },
  {
   "cell_type": "code",
   "execution_count": null,
   "id": "64745442",
   "metadata": {},
   "outputs": [],
   "source": []
  }
 ],
 "metadata": {
  "kernelspec": {
   "display_name": "Python 3 (ipykernel)",
   "language": "python",
   "name": "python3"
  },
  "language_info": {
   "codemirror_mode": {
    "name": "ipython",
    "version": 3
   },
   "file_extension": ".py",
   "mimetype": "text/x-python",
   "name": "python",
   "nbconvert_exporter": "python",
   "pygments_lexer": "ipython3",
   "version": "3.9.7"
  }
 },
 "nbformat": 4,
 "nbformat_minor": 5
}
