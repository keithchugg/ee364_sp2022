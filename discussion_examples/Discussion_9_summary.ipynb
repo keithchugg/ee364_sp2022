{
 "cells": [
  {
   "cell_type": "markdown",
   "id": "3ea3a732-6610-44bb-b2b1-4961fff24e9f",
   "metadata": {},
   "source": [
    "### Coding example\n",
    "\n",
    "Here I modified the code we discussed yesterday into a more compact form. We have 2 functions. One counts the X on which the fullhouse condition was met in an array of multiple flips (X_fullhouse()) and the other generates such trials and calls X_fullhouse for each trial(experiment()). X_fullhouse() is called from experiment() so you only need to call the experiment() function with correct parameters. "
   ]
  },
  {
   "cell_type": "code",
   "execution_count": 6,
   "id": "a8f1bacc-a7fa-4120-8b70-f5183eec84b5",
   "metadata": {},
   "outputs": [],
   "source": [
    "import numpy as np\n",
    "\n",
    "def X_fullhouse(flip_vector):\n",
    "    for i in range(flip_vector.shape[0]):\n",
    "        n_heads = np.sum(flip_vector[:i])\n",
    "        n_tails = flip_vector[:i].shape[0]-n_heads\n",
    "        if n_heads>=3 and n_tails>=2:\n",
    "            return i\n",
    "    return False\n",
    "\n",
    "def experiment(N_trials, p_heads, N_lim):\n",
    "    X=np.zeros(N_trials)+N_lim\n",
    "    for i in range(N_trials):\n",
    "        flips = np.random.binomial(1,p_heads,N_lim)\n",
    "        if X_fullhouse(flips):\n",
    "            X[i]=X_fullhouse(flips)\n",
    "            \n",
    "    return X\n",
    "\n",
    "#generate a sequence of flips in 1 trial\n",
    "flips = np.random.binomial(1,p,n_lim)\n",
    "\n",
    "#print(flips)\n"
   ]
  },
  {
   "cell_type": "code",
   "execution_count": 7,
   "id": "78a12410-9b97-4ab1-b9aa-c1659da0e313",
   "metadata": {},
   "outputs": [
    {
     "name": "stdout",
     "output_type": "stream",
     "text": [
      "[ 5.  6.  6.  5. 12.  6.  5.  5.  5.  9.  9.  7.  6.  6.  7.  5.  7.  5.\n",
      "  5.  6.]\n"
     ]
    }
   ],
   "source": [
    "p=0.5\n",
    "n_lim = 60 #we allow 500 flips in each trial max to not end up in infinite loop\n",
    "trials = 20  \n",
    "\n",
    "print(experiment(trials, p, n_lim))"
   ]
  },
  {
   "cell_type": "markdown",
   "id": "b3ccdc6b-e0a7-47a2-84d3-f3dab9182dcf",
   "metadata": {},
   "source": [
    "You choose n_lim so that for a given p probability of X>n_lim is negligible"
   ]
  },
  {
   "cell_type": "code",
   "execution_count": null,
   "id": "931e990e-9d6e-4716-8349-e7a92474d35b",
   "metadata": {},
   "outputs": [],
   "source": []
  }
 ],
 "metadata": {
  "kernelspec": {
   "display_name": "Python 3 (ipykernel)",
   "language": "python",
   "name": "python3"
  },
  "language_info": {
   "codemirror_mode": {
    "name": "ipython",
    "version": 3
   },
   "file_extension": ".py",
   "mimetype": "text/x-python",
   "name": "python",
   "nbconvert_exporter": "python",
   "pygments_lexer": "ipython3",
   "version": "3.9.7"
  }
 },
 "nbformat": 4,
 "nbformat_minor": 5
}
