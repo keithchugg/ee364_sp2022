{
 "cells": [
  {
   "cell_type": "markdown",
   "id": "b77d8a25-9947-4adb-95c7-4cdd3e935221",
   "metadata": {},
   "source": [
    "In this exercise we looked at how does the standard deviation relate to the distribution for a distribution that has a bimodal shape. We made parallels with the Chebyshev's inequality for this distribution to try to understand how tight are the Chebyshev bounds. We see that nearly half of the data lies within 1 st.d. from the mean, and nearly all data lies within 2 st.d. We made similar observations for binomial distribution. \n",
    "\n",
    "At the end we compared the standard deviation of our simulated data with the theoretical result if the distribution was approximated with Gaussians. (We just used the formula to find the st. dev. of the sum of Gaussian distributions, not covered in class). As this st. dev. matches the simulated one really closely, we quantitatively see the connection between binomial and normal distributions. "
   ]
  },
  {
   "cell_type": "code",
   "execution_count": 1,
   "id": "928f09b4",
   "metadata": {},
   "outputs": [
    {
     "data": {
      "text/plain": [
       "(array([  1.,   0.,   1.,   7.,  29., 105., 227., 453., 661., 849., 842.,\n",
       "        722., 527., 309., 161.,  80.,  24.,   8.,  20.,  68., 135., 242.,\n",
       "        445., 633., 769., 794., 730., 551., 331., 161.,  75.,  23.,  13.,\n",
       "          2.,   1.]),\n",
       " array([ 9.5, 11.5, 13.5, 15.5, 17.5, 19.5, 21.5, 23.5, 25.5, 27.5, 29.5,\n",
       "        31.5, 33.5, 35.5, 37.5, 39.5, 41.5, 43.5, 45.5, 47.5, 49.5, 51.5,\n",
       "        53.5, 55.5, 57.5, 59.5, 61.5, 63.5, 65.5, 67.5, 69.5, 71.5, 73.5,\n",
       "        75.5, 77.5, 79.5]),\n",
       " <BarContainer object of 35 artists>)"
      ]
     },
     "execution_count": 1,
     "metadata": {},
     "output_type": "execute_result"
    },
    {
     "data": {
      "image/png": "[encoded data removed]",
      "text/plain": [
       "<Figure size 432x288 with 1 Axes>"
      ]
     },
     "metadata": {
      "needs_background": "light"
     },
     "output_type": "display_data"
    },
    {
     "data": {
      "image/png": "[encoded data removed]",
      "text/plain": [
       "<Figure size 432x288 with 1 Axes>"
      ]
     },
     "metadata": {
      "needs_background": "light"
     },
     "output_type": "display_data"
    },
    {
     "data": {
      "image/png": "[encoded data removed]",
      "text/plain": [
       "<Figure size 432x288 with 1 Axes>"
      ]
     },
     "metadata": {
      "needs_background": "light"
     },
     "output_type": "display_data"
    }
   ],
   "source": [
    "import numpy as np\n",
    "import matplotlib as mpl\n",
    "import matplotlib.pyplot as plt\n",
    "\n",
    "p1=0.3\n",
    "p2=0.6\n",
    "\n",
    "lr = 9.5 #define the ranges of the plot\n",
    "rr = 80.5\n",
    "\n",
    "n = 100\n",
    "trials = 5000\n",
    "\n",
    "N_A1 = np.zeros(trials) #A is the event we are interested in\n",
    "N_A2 = np.zeros(trials) #A is the event we are interested in\n",
    "\n",
    "\n",
    "for k in range(trials):\n",
    "    meas1 = np.random.binomial(1, p1, n)\n",
    "    N_A1[k]=sum(meas1)\n",
    "    meas2 = np.random.binomial(1, p2, n)\n",
    "    N_A2[k]=sum(meas2)\n",
    "\n",
    "N_A_sum = 0.5*(N_A1+N_A2)  \n",
    "N_A_concat=np.concatenate((N_A1, N_A2), axis=0)\n",
    "\n",
    "r=np.arange(lr,rr,2)\n",
    "#figure 2\n",
    "fig=plt.figure()\n",
    "fig.suptitle('N_A1 and N_A2')\n",
    "plt.hist(N_A1, bins=r)\n",
    "plt.hist(N_A2, bins=r)\n",
    "\n",
    "#figure 1\n",
    "fig=plt.figure()\n",
    "fig.suptitle('Sum')\n",
    "plt.hist(N_A_sum, bins=r)\n",
    "\n",
    "fig=plt.figure()\n",
    "fig.suptitle('Concatenate')\n",
    "plt.hist(N_A_concat, bins=r)\n",
    "\n",
    "#print(N_A1)\n",
    "#print(N_A2)\n",
    "#print(N_A_concat)\n",
    "\n"
   ]
  },
  {
   "cell_type": "code",
   "execution_count": 88,
   "id": "db290025",
   "metadata": {},
   "outputs": [
    {
     "name": "stdout",
     "output_type": "stream",
     "text": [
      "Means: \n",
      "\n",
      "Simulated: 30.021 Theory: 30.0\n",
      "Simulated: 59.9144 Theory: 60.0\n",
      "Sum: 44.9677\n",
      "\n",
      "Standard deviations: \n",
      "\n",
      "Simulated: 4.590093572030966 Theory: 4.58257569495584\n",
      "Simulated: 4.859698821943598 Theory: 4.898979485566356\n",
      "Sum simulated: 3.344773043122657 Sum theory: 3.3541019662496847\n"
     ]
    }
   ],
   "source": [
    "print('Means: \\n')\n",
    "print('Simulated:',np.mean(N_A1),'Theory:', n*p1)\n",
    "print('Simulated:',np.mean(N_A2),'Theory:', n*p2)\n",
    "\n",
    "print('Sum:',np.mean(N_A_sum))\n",
    "#print('Concatenate:',np.mean(N_A_concat))\n",
    "\n",
    "\n",
    "\n",
    "print('\\nStandard deviations: \\n')\n",
    "print('Simulated:',np.std(N_A1),'Theory:', np.sqrt(n*p1*(1-p1)))\n",
    "print('Simulated:',np.std(N_A2),'Theory:', np.sqrt(n*p2*(1-p2)))\n",
    "\n",
    "print('Sum simulated:',np.std(N_A_sum),'Sum theory:',0.5*np.sqrt(n*p1*(1-p1)+n*p2*(1-p2)))\n",
    "#print('Sum:',np.std(N_A_sum))\n",
    "#print('Concatenate:',np.std(N_A_concat))\n",
    "\n"
   ]
  },
  {
   "cell_type": "code",
   "execution_count": null,
   "id": "9581bb7d",
   "metadata": {},
   "outputs": [],
   "source": [
    "\n",
    "\n",
    "\n",
    "\n",
    "\n",
    "\n",
    "\n",
    "\n",
    "\n",
    "\n",
    "\n",
    "\n",
    "\n"
   ]
  }
 ],
 "metadata": {
  "kernelspec": {
   "display_name": "Python 3 (ipykernel)",
   "language": "python",
   "name": "python3"
  },
  "language_info": {
   "codemirror_mode": {
    "name": "ipython",
    "version": 3
   },
   "file_extension": ".py",
   "mimetype": "text/x-python",
   "name": "python",
   "nbconvert_exporter": "python",
   "pygments_lexer": "ipython3",
   "version": "3.9.7"
  }
 },
 "nbformat": 4,
 "nbformat_minor": 5
}
