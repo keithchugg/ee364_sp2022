{
 "cells": [
  {
   "cell_type": "markdown",
   "id": "957c561c-235d-4d33-8895-72a957d39395",
   "metadata": {},
   "source": [
    "### Choosing m red balls out of a box"
   ]
  },
  {
   "cell_type": "markdown",
   "id": "06f8d1f5-32a3-4d65-b90d-249ae257b4e3",
   "metadata": {},
   "source": [
    "You have 3 red and 5 blue balls in a box. You choose 4 randomly w/out replacement. Simulate the probability of having 2 red balls. (3/7)"
   ]
  },
  {
   "cell_type": "code",
   "execution_count": 13,
   "id": "0b288dda-30b4-4118-b088-1d8f83670a97",
   "metadata": {},
   "outputs": [
    {
     "name": "stdout",
     "output_type": "stream",
     "text": [
      "0.4287\n",
      "0.42857142857142855\n"
     ]
    }
   ],
   "source": [
    "import numpy as np \n",
    "\n",
    "N_balls = 8\n",
    "red = 3\n",
    "blue = N_balls-red\n",
    "choose = 4\n",
    "trials = 10000\n",
    "s=0\n",
    "\n",
    "#we have an array of 5 0's and 3 1's. We randomly pick 4 elements w/out replacement from this array. We repeat this multiple times and count the number of times n_red==2\n",
    "\n",
    "for n in range(trials):\n",
    "    x=np.zeros(N_balls)\n",
    "    for n in range(red):\n",
    "        x[n]=1\n",
    "\n",
    "        \n",
    "#print(x)\n",
    "\n",
    "    out = np.random.choice(x,choose,replace=False) #x is the sequence, 4 means choose 4 of them, replace False means w/out replacement\n",
    "#print(out)\n",
    "\n",
    "    n_red = np.sum(out)\n",
    "#print(n_red)\n",
    "    if n_red == 2:\n",
    "       s+=1 \n",
    "\n",
    "    \n",
    "print(s/trials)\n",
    "print(3/7)"
   ]
  },
  {
   "cell_type": "markdown",
   "id": "b2fe4618-2209-42fd-aa08-f7b027d4aa81",
   "metadata": {},
   "source": [
    "### Parking lot problem. Finding the probability of having 2 adjacent empty spots\n",
    "\n",
    "We discussed 2 methods to simulate the probability for this case and did an example with one of them. Besides the method below you can also create a sequence of 0's and randomly change n_empty elements to 1 (for the empty spots). After this you can write a code to search for consecutive 1's. "
   ]
  },
  {
   "cell_type": "code",
   "execution_count": 28,
   "id": "ac959b7c-5659-46fc-9602-14b8de5fa740",
   "metadata": {},
   "outputs": [
    {
     "name": "stdout",
     "output_type": "stream",
     "text": [
      "0.4177\n"
     ]
    }
   ],
   "source": [
    "import numpy as np\n",
    "\n",
    "spaces = 25\n",
    "empty = 4\n",
    "trials = 10000\n",
    "s=0\n",
    "\n",
    "for n in range(trials):\n",
    "    ind = np.random.choice(spaces,empty,replace=False) #when the first parameter is an int number, it acts like np.arrange(20)\n",
    "    sorted_ind = np.sort(ind)\n",
    "\n",
    "    #print(sorted_ind)\n",
    "\n",
    "# we check for 2 consecutive empty spots\n",
    "\n",
    "    A=False # A is the event of having 2 adjacent empty spots\n",
    "    for n in range(empty-1):\n",
    "        if sorted_ind[n+1]-sorted_ind[n]==1:\n",
    "            A=True\n",
    "    if A==True:\n",
    "        s+=1\n",
    "        \n",
    "print(s/trials)\n",
    "\n"
   ]
  },
  {
   "cell_type": "markdown",
   "id": "7d7b1a9d-ebdd-441a-9fc5-7df1bf9dbdd4",
   "metadata": {},
   "source": [
    "### Student questions\n",
    "During both sessions we discussed several questions from students regarding different homework problems and I gave out hints for some of them. So if you have questions and have missed the discussion live I would recommend watching one of the recordings of the discussions. You can also come to my office hours on Wednesday or post the questions on piazza."
   ]
  },
  {
   "cell_type": "code",
   "execution_count": null,
   "id": "14eb0ea9-ed27-4ffc-b72a-e47e1c6753ec",
   "metadata": {},
   "outputs": [],
   "source": []
  }
 ],
 "metadata": {
  "kernelspec": {
   "display_name": "Python 3 (ipykernel)",
   "language": "python",
   "name": "python3"
  },
  "language_info": {
   "codemirror_mode": {
    "name": "ipython",
    "version": 3
   },
   "file_extension": ".py",
   "mimetype": "text/x-python",
   "name": "python",
   "nbconvert_exporter": "python",
   "pygments_lexer": "ipython3",
   "version": "3.9.7"
  }
 },
 "nbformat": 4,
 "nbformat_minor": 5
}
