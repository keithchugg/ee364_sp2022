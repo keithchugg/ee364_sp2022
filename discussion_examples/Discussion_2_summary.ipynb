{
 "cells": [
  {
   "cell_type": "markdown",
   "id": "9fab8bec-e461-4e5d-bf22-99082d048e94",
   "metadata": {},
   "source": [
    "### Generating the data \n",
    "\n",
    "Let's start with generating a data of repeating experiments with binary outputs (0 or 1 in this case) with a fixed probability. After this, we calculate the average of the generated data as an estimate for the probability."
   ]
  },
  {
   "cell_type": "code",
   "execution_count": 46,
   "id": "9f446706-2e92-446c-8dd1-b8b32ad23faa",
   "metadata": {},
   "outputs": [
    {
     "name": "stdout",
     "output_type": "stream",
     "text": [
      "[0 1 1 1 0 0 0 0 1 0 0 1 0 0 0 1 0 0 0 0]\n",
      "0.3\n"
     ]
    }
   ],
   "source": [
    "import numpy as np \n",
    "import matplotlib as mpl\n",
    "import matplotlib.pyplot as plt\n",
    "\n",
    "meas = np.random.binomial(1,0.2,20) \n",
    "print(meas)\n",
    "\n",
    "p_est=sum(meas)/len(meas)\n",
    "print(p_est)"
   ]
  },
  {
   "cell_type": "markdown",
   "id": "bf6a58ba-4f82-4e01-a9a7-a0129e2b0fb4",
   "metadata": {},
   "source": [
    "Here \"1\" determines the range of outputs (0 and 1 in this case), \"0.2\" is the probability of the output 1, and \"20\" is the number of measurements we simulate. \n",
    "\n",
    "At the output the array shows the sequence of the outputs of these 20 measurements. We also printed the estimated probability based on this simulated data. "
   ]
  },
  {
   "cell_type": "markdown",
   "id": "a6713da3-b94f-4ad9-bb68-d01bd4443260",
   "metadata": {},
   "source": [
    "In the next example, we repeat the experiment above, simulating multiple trials each having the same number of measurements. We calculate the estimated probability for each trial and print these outputs. Try different numbers of trials and measurements and see how the output changes. Compare the outputs "
   ]
  },
  {
   "cell_type": "code",
   "execution_count": 47,
   "id": "81a79c42-6394-4aa9-95fe-bc27cd60fc01",
   "metadata": {},
   "outputs": [
    {
     "name": "stdout",
     "output_type": "stream",
     "text": [
      "[0.2  0.2  0.15 0.15 0.2 ]\n"
     ]
    }
   ],
   "source": [
    "import numpy as np \n",
    "import matplotlib as mpl\n",
    "import matplotlib.pyplot as plt\n",
    "\n",
    "#import libraries\n",
    "\n",
    "p=0.2\n",
    "\n",
    "measurements = 20\n",
    "trials = 5\n",
    "\n",
    "p_est=np.zeros(trials) # generates an array of 0s for us to store the estimated probability of each trial\n",
    "\n",
    "for n in range(trials):\n",
    "    meas = np.random.binomial(1,p,measurements) \n",
    "    p_est[n]=sum(meas)/len(meas) #the average or estimated probability in this case\n",
    "    \n",
    "print(p_est)\n"
   ]
  },
  {
   "cell_type": "markdown",
   "id": "203e735b-c9b3-4d78-89f6-f1599b2dd91c",
   "metadata": {},
   "source": [
    "Now we repeat the simulation above for larger number of measurements and trials and plot the estimated probabilities."
   ]
  },
  {
   "cell_type": "code",
   "execution_count": 48,
   "id": "2585cecd-f405-408e-98b8-39b330c889ef",
   "metadata": {},
   "outputs": [
    {
     "data": {
      "text/plain": [
       "(array([ 0.,  2.,  7.,  4.,  7.,  5.,  4., 10.,  3.,  1.]),\n",
       " array([0.09, 0.11, 0.13, 0.15, 0.17, 0.19, 0.21, 0.23, 0.25, 0.27, 0.29]),\n",
       " <BarContainer object of 10 artists>)"
      ]
     },
     "execution_count": 48,
     "metadata": {},
     "output_type": "execute_result"
    },
    {
     "data": {
      "image/png": "[encoded data removed]",
      "text/plain": [
       "<Figure size 432x288 with 1 Axes>"
      ]
     },
     "metadata": {
      "needs_background": "light"
     },
     "output_type": "display_data"
    }
   ],
   "source": [
    "import numpy as np \n",
    "import matplotlib as mpl\n",
    "import matplotlib.pyplot as plt\n",
    "\n",
    "#import libraries\n",
    "\n",
    "p=0.2\n",
    "\n",
    "measurements = 50\n",
    "trials = 50\n",
    "\n",
    "p_est=np.zeros(trials) # generates an array of 0s for us to store the estimated probability of each trial\n",
    "\n",
    "for n in range(trials):\n",
    "    meas = np.random.binomial(1,p,measurements) \n",
    "    p_est[n]=sum(meas)/len(meas) #the average or estimated probability in this case\n",
    "    \n",
    "r = np.arange(0.09, 0.31, 0.02)    \n",
    "plt.hist(p_est,bins=r)\n",
    "\n"
   ]
  },
  {
   "cell_type": "markdown",
   "id": "2fc91587-fa02-4f54-ba85-fce0c18dd870",
   "metadata": {},
   "source": [
    "https://matplotlib.org/stable/api/_as_gen/matplotlib.pyplot.hist.html\n",
    "\n",
    "You can find the details about the parameters of the plt.hist in this link. "
   ]
  },
  {
   "cell_type": "markdown",
   "id": "8bb55d7e-67e9-45c8-9c79-dc6103115712",
   "metadata": {},
   "source": [
    "The 'r' is the array of endpoints for each bar on the histogram plot. Please refer to discussion 1 to see what the output of np.arrage is. "
   ]
  },
  {
   "cell_type": "code",
   "execution_count": 49,
   "id": "27b5843e-1aaf-40f8-9716-6b069afb0c1c",
   "metadata": {},
   "outputs": [
    {
     "data": {
      "text/plain": [
       "(array([ 0.,  0.,  0.,  4., 16., 20.,  7.,  3.,  0.,  0.]),\n",
       " array([0.09, 0.11, 0.13, 0.15, 0.17, 0.19, 0.21, 0.23, 0.25, 0.27, 0.29]),\n",
       " <BarContainer object of 10 artists>)"
      ]
     },
     "execution_count": 49,
     "metadata": {},
     "output_type": "execute_result"
    },
    {
     "data": {
      "image/png": "[encoded data removed]",
      "text/plain": [
       "<Figure size 432x288 with 1 Axes>"
      ]
     },
     "metadata": {
      "needs_background": "light"
     },
     "output_type": "display_data"
    }
   ],
   "source": [
    "import numpy as np \n",
    "import matplotlib as mpl\n",
    "import matplotlib.pyplot as plt\n",
    "\n",
    "#import libraries\n",
    "\n",
    "p=0.2\n",
    "\n",
    "measurements = 500\n",
    "trials = 50\n",
    "\n",
    "p_est=np.zeros(trials) # generates an array of 0s for us to store the estimated probability of each trial\n",
    "\n",
    "for n in range(trials):\n",
    "    meas = np.random.binomial(1,p,measurements) \n",
    "    p_est[n]=sum(meas)/len(meas) #the average or estimated probability in this case\n",
    "    \n",
    "    \n",
    "    \n",
    "r = np.arange(0.09, 0.31, 0.02)    \n",
    "plt.hist(p_est,bins=r)\n",
    "\n"
   ]
  },
  {
   "cell_type": "markdown",
   "id": "151c3d81-d3ac-478f-9a51-bb63c7d970e4",
   "metadata": {},
   "source": [
    "### Questions asked and points I did not cover\n",
    "\n",
    "1. If you are trying to plot the dependance of estimated p on the number of measurements in a single trial remember that you need to do this by adding more data for more measurements. If you run the np.random.binomial(1,p,measurements) for changing the number of measurements, each time this function runs in a for loop it will generate a new set of data. \n",
    "\n",
    "2. The examples I covered include hints and parts of code you can use for your HW. However when solving the HW please pay attention to what each question is asking to include the corresponding outputs as your answer. \n",
    "\n",
    "3. Discussion 1 included how to make linear plots. You can refer to this or look for online resources for further details. You can email me your questions. \n",
    "\n",
    "4. Instead of having a for loop you can directly generate a 2-D data that will include all measurements for each trial for a given number of trials and measurements. Please refer to the instructor response on piazza post @26."
   ]
  },
  {
   "cell_type": "code",
   "execution_count": null,
   "id": "85eb1e80-b569-4bea-babf-11676464bfbf",
   "metadata": {},
   "outputs": [],
   "source": []
  },
  {
   "cell_type": "code",
   "execution_count": null,
   "id": "f431350c-b3c8-4ccb-a672-ac05ae7a8fe4",
   "metadata": {},
   "outputs": [],
   "source": []
  }
 ],
 "metadata": {
  "kernelspec": {
   "display_name": "Python 3 (ipykernel)",
   "language": "python",
   "name": "python3"
  },
  "language_info": {
   "codemirror_mode": {
    "name": "ipython",
    "version": 3
   },
   "file_extension": ".py",
   "mimetype": "text/x-python",
   "name": "python",
   "nbconvert_exporter": "python",
   "pygments_lexer": "ipython3",
   "version": "3.9.7"
  }
 },
 "nbformat": 4,
 "nbformat_minor": 5
}
