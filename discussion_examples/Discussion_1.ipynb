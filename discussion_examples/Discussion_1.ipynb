{
 "cells": [
  {
   "cell_type": "markdown",
   "id": "788739aa",
   "metadata": {},
   "source": [
    "# Setting up the Jupyter notebooks"
   ]
  },
  {
   "cell_type": "markdown",
   "id": "15a8d213",
   "metadata": {},
   "source": [
    "Go to anaconda.com and click on get started to download the anaconda distributor installer. \n",
    "\n",
    "After you complete the instalation you can launch the Anaconda Navigator and launch a Jupyter notebook from there. "
   ]
  },
  {
   "cell_type": "markdown",
   "id": "5b950896",
   "metadata": {},
   "source": [
    "### Few simple exercises to show how to run the codes "
   ]
  },
  {
   "cell_type": "markdown",
   "id": "93c8da92",
   "metadata": {},
   "source": [
    "The notebook is either in an edit mode or a command mode. There are a set of useful shortcuts to make working with jupyter notebooks more efficient. \n",
    "\n",
    "To see the list of shortcuts press the 'h' button in command mode (press esc to enter command mode, the borders around the selected cell will become blue).\n",
    "\n",
    "Use 'Save and checkpoint' to save the state of the project. You can revert any changes back to the checkpoint. However, the edits after the checkpoint will be lost. "
   ]
  },
  {
   "cell_type": "code",
   "execution_count": 2,
   "id": "9882d137",
   "metadata": {},
   "outputs": [
    {
     "name": "stdout",
     "output_type": "stream",
     "text": [
      "Welcome to EE 364\n",
      "My office hour information is on Piazza.\n"
     ]
    }
   ],
   "source": [
    "print('Welcome to EE 364')\n",
    "\n",
    "some_text = 'My office hour information is on Piazza.'\n",
    "print(some_text)"
   ]
  },
  {
   "cell_type": "markdown",
   "id": "d73a8c4e",
   "metadata": {},
   "source": [
    "### Magic commands"
   ]
  },
  {
   "cell_type": "markdown",
   "id": "613b3e25",
   "metadata": {},
   "source": [
    "There are two types of magic commands: line magic and cell magic. Cell magic commands have to be at the top of the cell. Please check online documentations for details. \n",
    "\n",
    "In this example we write a python file, read it, and run it. "
   ]
  },
  {
   "cell_type": "code",
   "execution_count": 12,
   "id": "aecd69c6",
   "metadata": {},
   "outputs": [
    {
     "name": "stdout",
     "output_type": "stream",
     "text": [
      "Overwriting num_plot.py\n"
     ]
    }
   ],
   "source": [
    "%%writefile num_plot.py\n",
    "import matplotlib.pyplot as plt\n",
    "import sys\n",
    "\n",
    "#create the data\n",
    "y=list(map(int,sys.argv[1:]))\n",
    "\n",
    "#plot the data\n",
    "plt.plot(y)"
   ]
  },
  {
   "cell_type": "code",
   "execution_count": 10,
   "id": "492c9146",
   "metadata": {},
   "outputs": [
    {
     "name": "stdout",
     "output_type": "stream",
     "text": [
      "import matplotlib.pyplot as plt\r\n",
      "import sys\r\n",
      "\r\n",
      "#create the data\r\n",
      "y=list(map(int,sys.argv[1:]))\r\n",
      "\r\n",
      "#plot the data\r\n",
      "plt.plot(y)\r\n"
     ]
    }
   ],
   "source": [
    "#dasda\n",
    "%cat num_plot.py"
   ]
  },
  {
   "cell_type": "code",
   "execution_count": 9,
   "id": "2e8b237c",
   "metadata": {},
   "outputs": [
    {
     "data": {
      "image/png": "[encoded data removed]",
      "text/plain": [
       "<Figure size 432x288 with 1 Axes>"
      ]
     },
     "metadata": {
      "needs_background": "light"
     },
     "output_type": "display_data"
    }
   ],
   "source": [
    "%run num_plot.py 1 2 5 7 4"
   ]
  },
  {
   "cell_type": "code",
   "execution_count": 14,
   "id": "757ce465",
   "metadata": {
    "scrolled": true
   },
   "outputs": [
    {
     "data": {
      "application/json": {
       "cell": {
        "!": "OSMagics",
        "HTML": "Other",
        "SVG": "Other",
        "bash": "Other",
        "capture": "ExecutionMagics",
        "debug": "ExecutionMagics",
        "file": "Other",
        "html": "DisplayMagics",
        "javascript": "DisplayMagics",
        "js": "DisplayMagics",
        "latex": "DisplayMagics",
        "markdown": "DisplayMagics",
        "perl": "Other",
        "prun": "ExecutionMagics",
        "pypy": "Other",
        "python": "Other",
        "python2": "Other",
        "python3": "Other",
        "ruby": "Other",
        "script": "ScriptMagics",
        "sh": "Other",
        "svg": "DisplayMagics",
        "sx": "OSMagics",
        "system": "OSMagics",
        "time": "ExecutionMagics",
        "timeit": "ExecutionMagics",
        "writefile": "OSMagics"
       },
       "line": {
        "alias": "OSMagics",
        "alias_magic": "BasicMagics",
        "autoawait": "AsyncMagics",
        "autocall": "AutoMagics",
        "automagic": "AutoMagics",
        "autosave": "KernelMagics",
        "bookmark": "OSMagics",
        "cat": "Other",
        "cd": "OSMagics",
        "clear": "KernelMagics",
        "colors": "BasicMagics",
        "conda": "PackagingMagics",
        "config": "ConfigMagics",
        "connect_info": "KernelMagics",
        "cp": "Other",
        "debug": "ExecutionMagics",
        "dhist": "OSMagics",
        "dirs": "OSMagics",
        "doctest_mode": "BasicMagics",
        "ed": "Other",
        "edit": "KernelMagics",
        "env": "OSMagics",
        "gui": "BasicMagics",
        "hist": "Other",
        "history": "HistoryMagics",
        "killbgscripts": "ScriptMagics",
        "ldir": "Other",
        "less": "KernelMagics",
        "lf": "Other",
        "lk": "Other",
        "ll": "Other",
        "load": "CodeMagics",
        "load_ext": "ExtensionMagics",
        "loadpy": "CodeMagics",
        "logoff": "LoggingMagics",
        "logon": "LoggingMagics",
        "logstart": "LoggingMagics",
        "logstate": "LoggingMagics",
        "logstop": "LoggingMagics",
        "ls": "Other",
        "lsmagic": "BasicMagics",
        "lx": "Other",
        "macro": "ExecutionMagics",
        "magic": "BasicMagics",
        "man": "KernelMagics",
        "matplotlib": "PylabMagics",
        "mkdir": "Other",
        "more": "KernelMagics",
        "mv": "Other",
        "notebook": "BasicMagics",
        "page": "BasicMagics",
        "pastebin": "CodeMagics",
        "pdb": "ExecutionMagics",
        "pdef": "NamespaceMagics",
        "pdoc": "NamespaceMagics",
        "pfile": "NamespaceMagics",
        "pinfo": "NamespaceMagics",
        "pinfo2": "NamespaceMagics",
        "pip": "PackagingMagics",
        "popd": "OSMagics",
        "pprint": "BasicMagics",
        "precision": "BasicMagics",
        "prun": "ExecutionMagics",
        "psearch": "NamespaceMagics",
        "psource": "NamespaceMagics",
        "pushd": "OSMagics",
        "pwd": "OSMagics",
        "pycat": "OSMagics",
        "pylab": "PylabMagics",
        "qtconsole": "KernelMagics",
        "quickref": "BasicMagics",
        "recall": "HistoryMagics",
        "rehashx": "OSMagics",
        "reload_ext": "ExtensionMagics",
        "rep": "Other",
        "rerun": "HistoryMagics",
        "reset": "NamespaceMagics",
        "reset_selective": "NamespaceMagics",
        "rm": "Other",
        "rmdir": "Other",
        "run": "ExecutionMagics",
        "save": "CodeMagics",
        "sc": "OSMagics",
        "set_env": "OSMagics",
        "store": "StoreMagics",
        "sx": "OSMagics",
        "system": "OSMagics",
        "tb": "ExecutionMagics",
        "time": "ExecutionMagics",
        "timeit": "ExecutionMagics",
        "unalias": "OSMagics",
        "unload_ext": "ExtensionMagics",
        "who": "NamespaceMagics",
        "who_ls": "NamespaceMagics",
        "whos": "NamespaceMagics",
        "xdel": "NamespaceMagics",
        "xmode": "BasicMagics"
       }
      },
      "text/plain": [
       "Available line magics:\n",
       "%alias  %alias_magic  %autoawait  %autocall  %automagic  %autosave  %bookmark  %cat  %cd  %clear  %colors  %conda  %config  %connect_info  %cp  %debug  %dhist  %dirs  %doctest_mode  %ed  %edit  %env  %gui  %hist  %history  %killbgscripts  %ldir  %less  %lf  %lk  %ll  %load  %load_ext  %loadpy  %logoff  %logon  %logstart  %logstate  %logstop  %ls  %lsmagic  %lx  %macro  %magic  %man  %matplotlib  %mkdir  %more  %mv  %notebook  %page  %pastebin  %pdb  %pdef  %pdoc  %pfile  %pinfo  %pinfo2  %pip  %popd  %pprint  %precision  %prun  %psearch  %psource  %pushd  %pwd  %pycat  %pylab  %qtconsole  %quickref  %recall  %rehashx  %reload_ext  %rep  %rerun  %reset  %reset_selective  %rm  %rmdir  %run  %save  %sc  %set_env  %store  %sx  %system  %tb  %time  %timeit  %unalias  %unload_ext  %who  %who_ls  %whos  %xdel  %xmode\n",
       "\n",
       "Available cell magics:\n",
       "%%!  %%HTML  %%SVG  %%bash  %%capture  %%debug  %%file  %%html  %%javascript  %%js  %%latex  %%markdown  %%perl  %%prun  %%pypy  %%python  %%python2  %%python3  %%ruby  %%script  %%sh  %%svg  %%sx  %%system  %%time  %%timeit  %%writefile\n",
       "\n",
       "Automagic is ON, % prefix IS NOT needed for line magics."
      ]
     },
     "execution_count": 14,
     "metadata": {},
     "output_type": "execute_result"
    }
   ],
   "source": [
    "%lsmagic"
   ]
  },
  {
   "cell_type": "markdown",
   "id": "f1c0345f",
   "metadata": {},
   "source": [
    "### Exercise: Plotting a sine function"
   ]
  },
  {
   "cell_type": "code",
   "execution_count": 22,
   "id": "df8ab033",
   "metadata": {},
   "outputs": [
    {
     "data": {
      "image/png": "[encoded data removed]",
      "text/plain": [
       "<Figure size 432x288 with 1 Axes>"
      ]
     },
     "metadata": {
      "needs_background": "light"
     },
     "output_type": "display_data"
    }
   ],
   "source": [
    "#import some libraries\n",
    "import matplotlib.pyplot as plt\n",
    "import numpy as np\n",
    "\n",
    "#creating the datapoints\n",
    "x = np.arange(0.0, 3.0, 0.02) #in matlab this would be x=0:0.02:3;\n",
    "y = np.sin(2 * np.pi * x)\n",
    "\n",
    "fig, ax = plt.subplots()\n",
    "ax.plot(x, y)\n",
    "\n",
    "ax.set(xlabel='Input', ylabel='Output',\n",
    "       title='Test_plot_1')\n",
    "ax.grid()\n",
    "\n",
    "fig.savefig(\"Test_plot_1.png\")\n",
    "plt.show()\n"
   ]
  },
  {
   "cell_type": "code",
   "execution_count": 19,
   "id": "392e88bc",
   "metadata": {},
   "outputs": [],
   "source": [
    "?plt.plot"
   ]
  },
  {
   "cell_type": "markdown",
   "id": "02a76e74",
   "metadata": {},
   "source": [
    "### Example: Bar plots"
   ]
  },
  {
   "cell_type": "markdown",
   "id": "8030caaf",
   "metadata": {},
   "source": [
    "Calculating the probabilities of observing a '6' m times when rolling a die n times."
   ]
  },
  {
   "cell_type": "code",
   "execution_count": 1,
   "id": "4e52c7be",
   "metadata": {
    "scrolled": true
   },
   "outputs": [
    {
     "data": {
      "image/png": "[encoded data removed]",
      "text/plain": [
       "<Figure size 432x288 with 1 Axes>"
      ]
     },
     "metadata": {
      "needs_background": "light"
     },
     "output_type": "display_data"
    }
   ],
   "source": [
    "from scipy.stats import binom\n",
    "import matplotlib.pyplot as plt\n",
    "\n",
    "#setup the parameters\n",
    "n=30 #number of attempts \n",
    "p=0.166 #probability of getting a 6\n",
    "\n",
    "# defining list of r values\n",
    "m_values = list(range(n + 1))\n",
    "\n",
    "#running the distibution functions for each output\n",
    "dist = [binom.pmf(m, n, p) for m in m_values ] #probability of getting a 6 m times in n attempts \n",
    "\n",
    "# plotting the graph\n",
    "plt.bar(m_values, dist)\n",
    "plt.show()"
   ]
  },
  {
   "cell_type": "code",
   "execution_count": null,
   "id": "8e3634f0",
   "metadata": {},
   "outputs": [],
   "source": []
  }
 ],
 "metadata": {
  "kernelspec": {
   "display_name": "Python 3 (ipykernel)",
   "language": "python",
   "name": "python3"
  },
  "language_info": {
   "codemirror_mode": {
    "name": "ipython",
    "version": 3
   },
   "file_extension": ".py",
   "mimetype": "text/x-python",
   "name": "python",
   "nbconvert_exporter": "python",
   "pygments_lexer": "ipython3",
   "version": "3.9.7"
  }
 },
 "nbformat": 4,
 "nbformat_minor": 5
}
