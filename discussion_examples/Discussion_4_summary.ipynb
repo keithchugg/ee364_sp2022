{
 "cells": [
  {
   "cell_type": "markdown",
   "id": "f297a60c-2de8-40ca-8cff-2cda82aa8ab4",
   "metadata": {},
   "source": [
    "#### In these examples we explore the connections between binomial and Poisson processes and discuss what happens for larger N.\n",
    "\n",
    "Let's start by discussing two processes:\n",
    "\n",
    "1. A 911 call center receives 100 calls per hour on average. \n",
    "\n",
    "2. A coin is flipped 200 times and the number of tails is counted. \n",
    "\n",
    "We already did some examples of the second in the previous discussions. The processes similar to the first one are Poisson processes. We will not go into details of the theory for these. We will simulate processes similar to the second one and compare them with probabilities in Poisson processes using online resources:\n",
    "\n",
    "https://keisan.casio.com/exec/system/1180573180\n",
    "\n",
    "Let's define some binary process (outputs of 0 and 1), with event A corresponding to the output \"1\". Start with doing 100 measurements in each trial, with probability of \"1\" being 0.01. \n"
   ]
  },
  {
   "cell_type": "code",
   "execution_count": 13,
   "id": "c9e9430d-a25b-442c-b3a9-ee516e2a1677",
   "metadata": {},
   "outputs": [
    {
     "data": {
      "text/plain": [
       "(array([732., 732., 373., 113.,  43.]),\n",
       " array([-0.5,  0.5,  1.5,  2.5,  3.5,  4.5]),\n",
       " <BarContainer object of 5 artists>)"
      ]
     },
     "execution_count": 13,
     "metadata": {},
     "output_type": "execute_result"
    },
    {
     "data": {
      "image/png": "[encoded data removed]",
      "text/plain": [
       "<Figure size 432x288 with 1 Axes>"
      ]
     },
     "metadata": {
      "needs_background": "light"
     },
     "output_type": "display_data"
    }
   ],
   "source": [
    "import numpy as np\n",
    "import matplotlib as mpl\n",
    "import matplotlib.pyplot as plt\n",
    "\n",
    "p=0.01\n",
    "\n",
    "lr = -0.5 #define the ranges of the plot\n",
    "rr = 5.5\n",
    "\n",
    "n = 100\n",
    "trials = 2000\n",
    "\n",
    "N_A= np.zeros(trials) #A is the event we are interested in\n",
    "\n",
    "for k in range(trials):\n",
    "    meas = np.random.binomial(1, p, n)\n",
    "    N_A[k]=sum(meas)\n",
    "    \n",
    "    \n",
    "r=np.arange(lr,rr,1)\n",
    "plt.hist(N_A, bins=r)"
   ]
  },
  {
   "cell_type": "markdown",
   "id": "5e931633-d6e5-4790-b585-24a43182cc4c",
   "metadata": {},
   "source": [
    "Now we repeat the same experiment for 1000 measurements. \n",
    "\n",
    "You can compare the similarity of these output with the link provided at the top. Put lambda to be 1 and 10 respectively. (notice that these are n*p for each case)."
   ]
  },
  {
   "cell_type": "code",
   "execution_count": 18,
   "id": "58777dff-4cef-4381-a11e-a74a9b61fc05",
   "metadata": {},
   "outputs": [
    {
     "data": {
      "text/plain": [
       "(array([  0.,   0.,   4.,  15.,  48.,  85., 110., 175., 238., 245., 243.,\n",
       "        228., 186., 137., 114.,  71.,  46.,  27.,  16.,   5.]),\n",
       " array([-0.5,  0.5,  1.5,  2.5,  3.5,  4.5,  5.5,  6.5,  7.5,  8.5,  9.5,\n",
       "        10.5, 11.5, 12.5, 13.5, 14.5, 15.5, 16.5, 17.5, 18.5, 19.5]),\n",
       " <BarContainer object of 20 artists>)"
      ]
     },
     "execution_count": 18,
     "metadata": {},
     "output_type": "execute_result"
    },
    {
     "data": {
      "image/png": "[encoded data removed]",
      "text/plain": [
       "<Figure size 432x288 with 1 Axes>"
      ]
     },
     "metadata": {
      "needs_background": "light"
     },
     "output_type": "display_data"
    }
   ],
   "source": [
    "p=0.01\n",
    "\n",
    "lr = -0.5 #define the ranges of the plot\n",
    "rr = 20.5\n",
    "\n",
    "n = 1000\n",
    "trials = 2000\n",
    "\n",
    "N_A= np.zeros(trials) #A is the event we are interested in\n",
    "\n",
    "for k in range(trials):\n",
    "    meas = np.random.binomial(1, p, n)\n",
    "    N_A[k]=sum(meas)\n",
    "    \n",
    "    \n",
    "r=np.arange(lr,rr,1)\n",
    "plt.hist(N_A, bins=r)"
   ]
  },
  {
   "cell_type": "markdown",
   "id": "a2957440-9f98-443d-bbbd-7e7d7ceb55ba",
   "metadata": {},
   "source": [
    "Let's think about Poisson process in this way. For example we receive 100 calls per hour on average at 911 call center. Let's divide the time interval we have to small time intervals of 1 second. We will have 3600 such intervals. Now we ask what's the probability that we will receive a call in each of these intervals. As this probability is small we can ignore the possibility of two calls in 1 interval. This will become a binomial process, with outcomes of \"call\" or \"no call\" in each interval. The connection between these two and how Poisson distributions can be used to approximate binomial distributions will be covered later in the class. "
   ]
  },
  {
   "cell_type": "markdown",
   "id": "be4e8b0b-57a7-4b8b-8d44-aa4415e43225",
   "metadata": {},
   "source": [
    "At the end we discussed an example of a Poisson noise in Optics and electronics. \n",
    "\n",
    "https://en.wikipedia.org/wiki/Shot_noise\n",
    "https://en.wikipedia.org/wiki/Shot_noise#/media/File:Photon-noise.jpg"
   ]
  },
  {
   "cell_type": "markdown",
   "id": "4043726f-1322-4536-95d0-f46caab0f002",
   "metadata": {},
   "source": [
    "We also had a brief discussion about the approximations for binomial distribution beyond Poisson distribution. \n",
    "We covered a few examples of how to use the Q function and briefly discussed the cases when there will be similarities between binomial and normal distributions. \n",
    "\n",
    "https://www.mathsisfun.com/data/standard-normal-distribution-table.html"
   ]
  },
  {
   "cell_type": "code",
   "execution_count": null,
   "id": "df54fc37-f279-4eb6-bba7-f175bd2e2a72",
   "metadata": {},
   "outputs": [],
   "source": []
  }
 ],
 "metadata": {
  "kernelspec": {
   "display_name": "Python 3 (ipykernel)",
   "language": "python",
   "name": "python3"
  },
  "language_info": {
   "codemirror_mode": {
    "name": "ipython",
    "version": 3
   },
   "file_extension": ".py",
   "mimetype": "text/x-python",
   "name": "python",
   "nbconvert_exporter": "python",
   "pygments_lexer": "ipython3",
   "version": "3.9.7"
  }
 },
 "nbformat": 4,
 "nbformat_minor": 5
}
