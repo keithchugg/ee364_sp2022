{
 "cells": [
  {
   "cell_type": "markdown",
   "id": "9dc277b9-a2ea-4f0d-b523-45a24d575a90",
   "metadata": {},
   "source": [
    "### Discussion 5 summary\n",
    "\n",
    "Besides the solved examples (posted on piazza) we also covered the following process.\n",
    "Let's say we are flipping a fair coin, and counting when we will observe the first tails.\n",
    "\n",
    "It is possible to do this by using a while loop and simulating flips until observe tails for the first time.\n",
    "We'll do it a little differently. \n",
    "Let's generate an entire sequence of length n_lim and search for the first tails. In this case we limit the number of iterations in the loop. "
   ]
  },
  {
   "cell_type": "code",
   "execution_count": 2,
   "id": "2118afca-0172-4b21-80c5-6c4f85e0d614",
   "metadata": {},
   "outputs": [
    {
     "name": "stdout",
     "output_type": "stream",
     "text": [
      "[0 1 1 0 0 1 0 1 1 0]\n",
      "[1.]\n"
     ]
    }
   ],
   "source": [
    "import numpy as np\n",
    "\n",
    "#heads: 1, tails: 0\n",
    "\n",
    "p=0.5\n",
    "\n",
    "n_lim = 10\n",
    "trials = 1\n",
    "\n",
    "N_tails= np.zeros(trials) #A is the event we are interested in\n",
    "\n",
    "for k in range(trials):\n",
    "    flips = np.random.binomial(1, p, n_lim)\n",
    "#    heads=0\n",
    "#    tails=0\n",
    "    print(flips)\n",
    "    for i in range(n_lim):\n",
    "#count the number of heads and tails, the new condition is the full house condition        \n",
    "        if flips[i]==0 and N_tails[k]==0:\n",
    "            N_tails[k]=i+1\n",
    "            \n",
    "#try while loop\n",
    "#N_tails[k]=0 means in this trial there were no 0's before. We change this to the index when we see the first 0            \n",
    "#if N_tails[k]==0 after the for loop, means there was no full house after 500 flips            \n",
    "print(N_tails)\n",
    "\n",
    "#do many trials"
   ]
  },
  {
   "cell_type": "markdown",
   "id": "029e77dc-93b3-4e4f-9594-997c2278515c",
   "metadata": {},
   "source": [
    "Try to change the variables and conditions of this code to count the full house condition instead of the first tails. You will need to cound how many heads and tails you have starting from the first flip in each trial until you reach the full house condition."
   ]
  },
  {
   "cell_type": "code",
   "execution_count": null,
   "id": "5836b5f4-08d2-40fc-9eb6-f9139c400fe3",
   "metadata": {},
   "outputs": [],
   "source": []
  }
 ],
 "metadata": {
  "kernelspec": {
   "display_name": "Python 3 (ipykernel)",
   "language": "python",
   "name": "python3"
  },
  "language_info": {
   "codemirror_mode": {
    "name": "ipython",
    "version": 3
   },
   "file_extension": ".py",
   "mimetype": "text/x-python",
   "name": "python",
   "nbconvert_exporter": "python",
   "pygments_lexer": "ipython3",
   "version": "3.9.7"
  }
 },
 "nbformat": 4,
 "nbformat_minor": 5
}
