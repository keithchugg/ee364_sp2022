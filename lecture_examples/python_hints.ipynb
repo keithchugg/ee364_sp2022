{
 "cells": [
  {
   "cell_type": "markdown",
   "metadata": {},
   "source": [
    "# Python Slicing and Indexing Exmples\n",
    "\n",
    "Similar to Matlab, Python has very powerful matrix/vector/array manipulations and indexing capabilities.  Python arrays and lists are indexed from 0, which is a lot more natural than Matlab's convention of indexing from 1.  \n",
    "\n",
    "Let's explore a few ideas via examples\n",
    "\n",
    "## Lists vs. Arrays\n",
    "Python uses a data structure called a list and numpy uses arrays.  This are similar in many ways, but numpy arrays are similar to arrays in Matlab and allow for natural math operations.  Below is one example of the different behaivor for lists/arrays in Python:"
   ]
  },
  {
   "cell_type": "code",
   "execution_count": 65,
   "metadata": {},
   "outputs": [
    {
     "name": "stdout",
     "output_type": "stream",
     "text": [
      "a: [1, 2, 3]\n",
      "x: [1 2 3]\n"
     ]
    }
   ],
   "source": [
    "import numpy as np\n",
    "\n",
    "a = [ 1, 2, 3]              ## a is a list\n",
    "x = np.asarray([1, 2, 3])   ## x is an array\n",
    "\n",
    "print(f'a: {a}')\n",
    "print(f'x: {x}')"
   ]
  },
  {
   "cell_type": "markdown",
   "metadata": {},
   "source": [
    "Multiplying an array by a number multiples each element.  Multiply a list by a number (int) replicates the array that many times"
   ]
  },
  {
   "cell_type": "code",
   "execution_count": 66,
   "metadata": {},
   "outputs": [
    {
     "name": "stdout",
     "output_type": "stream",
     "text": [
      "b: [1, 2, 3, 1, 2, 3]\n",
      "b: []\n"
     ]
    }
   ],
   "source": [
    "b = 2 * a\n",
    "print(f'b: {b}')\n",
    "\n",
    "# b = 2.1 * a     ### throws error\n",
    "b = -2 * a        ### b is empty\n",
    "print(f'b: {b}')"
   ]
  },
  {
   "cell_type": "markdown",
   "metadata": {},
   "source": [
    "Multiplying a numpy array works as you would expect in scalar-matrix algebra:"
   ]
  },
  {
   "cell_type": "code",
   "execution_count": 67,
   "metadata": {},
   "outputs": [
    {
     "name": "stdout",
     "output_type": "stream",
     "text": [
      "y: [2 4 6]\n",
      "y: [2.1 4.2 6.3]\n",
      "y: [-1 -2 -3]\n"
     ]
    }
   ],
   "source": [
    "y = 2 * x\n",
    "print(f'y: {y}')\n",
    "\n",
    "y = 2.1 * x\n",
    "print(f'y: {y}')\n",
    "\n",
    "y = -1 * x\n",
    "print(f'y: {y}')"
   ]
  },
  {
   "cell_type": "markdown",
   "metadata": {},
   "source": [
    "Since we are focused on \"numerical Python\", we will use numpy arrays.  When a numpy routine returns an array-like object it is a numpy arrary.  When a numpy routine takes an array-like object as input, it will often accept a list.  To convert a list to a numpy array use:"
   ]
  },
  {
   "cell_type": "code",
   "execution_count": 68,
   "metadata": {},
   "outputs": [
    {
     "name": "stdout",
     "output_type": "stream",
     "text": [
      "a: [0, 1, 2, 3]\n",
      "a-type: <class 'list'>\n",
      "\n",
      "x: [0 1 2 3]\n",
      "x-type: <class 'numpy.ndarray'>\n",
      "\n",
      "y: [0 1 2 3 4 5 6 7 8 9]\n",
      "y-type: <class 'numpy.ndarray'>\n"
     ]
    }
   ],
   "source": [
    "a = [i for i in range(4)]\n",
    "x = np.asarray(a)\n",
    "\n",
    "print(f'a: {a}')\n",
    "print(f'a-type: {type(a)}')\n",
    "\n",
    "print(f'\\nx: {x}')\n",
    "print(f'x-type: {type(x)}')\n",
    "\n",
    "y = np.arange(10)\n",
    "print(f'\\ny: {y}')\n",
    "print(f'y-type: {type(y)}')\n"
   ]
  },
  {
   "cell_type": "markdown",
   "metadata": {},
   "source": [
    "Multiplying two arrays is doen element by element.  There is a routine to compute the inner (dot) product"
   ]
  },
  {
   "cell_type": "code",
   "execution_count": 69,
   "metadata": {},
   "outputs": [
    {
     "name": "stdout",
     "output_type": "stream",
     "text": [
      "x: [0 1 2 3]\n",
      "y: [-0.94216087 -2.21318328 -0.94480091  0.08116183]\n",
      "\n",
      "z: -3.8592996234985426\n",
      "\n",
      "v: [[-0.         -0.         -0.          0.        ]\n",
      " [-0.94216087 -2.21318328 -0.94480091  0.08116183]\n",
      " [-1.88432173 -4.42636656 -1.88960183  0.16232366]\n",
      " [-2.8264826  -6.63954984 -2.83440274  0.24348549]]\n"
     ]
    }
   ],
   "source": [
    "x = np.arange(4)\n",
    "y = np.random.normal(0, 1, 4)\n",
    "print(f'x: {x}')\n",
    "print(f'y: {y}')\n",
    "\n",
    "## inner product\n",
    "z = np.dot(x, y)\n",
    "print(f'\\nz: {z}')\n",
    "\n",
    "## outer product\n",
    "v = np.outer(x, y)\n",
    "print(f'\\nv: {v}')\n"
   ]
  },
  {
   "cell_type": "markdown",
   "metadata": {},
   "source": [
    "Notice that the inner product is the scalar $\\textbf{x}^t \\textbf{y}$ and the outer product is the matrix $\\textbf{x} \\textbf{y}^t$.  So in the above code, `v` is a 2-dimensional numpy array.  We can check the sahpe of an array and for a 2D array, we can access the ith row or column (viewing as a matrix):"
   ]
  },
  {
   "cell_type": "code",
   "execution_count": 70,
   "metadata": {},
   "outputs": [
    {
     "name": "stdout",
     "output_type": "stream",
     "text": [
      "x: [ 0  1  2  3  4  5  6  7  8  9 10 11 12 13 14 15 16 17]\n",
      "x-shape: (18,)\n",
      "\n",
      "x: [[ 0  1  2  3  4  5]\n",
      " [ 6  7  8  9 10 11]\n",
      " [12 13 14 15 16 17]]\n",
      "x-shape: (3, 6)\n",
      "\n",
      "x[1]: [ 6  7  8  9 10 11]\n",
      "x[1]-shape: (6,)\n",
      "\n",
      "x.T[1]: [ 1  7 13]\n",
      "x.T[1]-shape: (3,)\n"
     ]
    }
   ],
   "source": [
    "x = np.arange(18)\n",
    "print(f'x: {x}')\n",
    "print(f'x-shape: {x.shape}')\n",
    "\n",
    "x = x.reshape((3, 6))\n",
    "print(f'\\nx: {x}')\n",
    "print(f'x-shape: {x.shape}')\n",
    "\n",
    "# second row in x\n",
    "print(f'\\nx[1]: {x[1]}')\n",
    "print(f'x[1]-shape: {x[1].shape}')\n",
    "\n",
    "# second column in x using the transpose method for numpy arrays\n",
    "print(f'\\nx.T[1]: {x.T[1]}')\n",
    "print(f'x.T[1]-shape: {x.T[1].shape}')\n"
   ]
  },
  {
   "cell_type": "markdown",
   "metadata": {},
   "source": [
    "Numpy allows for matrix-matrix multiplication and matrix-vector multiplication:"
   ]
  },
  {
   "cell_type": "code",
   "execution_count": 71,
   "metadata": {},
   "outputs": [
    {
     "name": "stdout",
     "output_type": "stream",
     "text": [
      "w: [0 1 2 3 4 5]\n",
      "w-shape: (6,)\n",
      "\n",
      "A: [[ 4  5  6  7  8  9]\n",
      " [10 11 12 13 14 15]\n",
      " [16 17 18 19 20 21]]\n",
      "A-shape: (3, 6)\n",
      "\n",
      "z: [115 205 295]\n",
      "z-shape: (3,)\n",
      "\n",
      "z: [[  0   5  12  21  32  45]\n",
      " [  0  11  24  39  56  75]\n",
      " [  0  17  36  57  80 105]]\n",
      "z-shape: (3, 6)\n",
      "\n",
      "z: [[  0   5  12  21  32  45]\n",
      " [  0  11  24  39  56  75]\n",
      " [  0  17  36  57  80 105]]\n",
      "z-shape: (3, 6)\n"
     ]
    }
   ],
   "source": [
    "w = np.arange(6)\n",
    "print(f'w: {w}')\n",
    "print(f'w-shape: {w.shape}')\n",
    "\n",
    "A = np.arange(18).reshape((3,6)) + 4\n",
    "print(f'\\nA: {A}')\n",
    "print(f'A-shape: {A.shape}')\n",
    "\n",
    "### matrix-vector multiplication\n",
    "z = A @ w\n",
    "print(f'\\nz: {z}')\n",
    "print(f'z-shape: {z.shape}')\n",
    "\n",
    "# this multiplies the j-th column of A by w[j]\n",
    "z = A * w\n",
    "print(f'\\nz: {z}')\n",
    "print(f'z-shape: {z.shape}')\n",
    "\n",
    "# this multiplies the j-th column of A by w[j]\n",
    "z = w * A\n",
    "print(f'\\nz: {z}')\n",
    "print(f'z-shape: {z.shape}')\n",
    "\n"
   ]
  },
  {
   "cell_type": "markdown",
   "metadata": {},
   "source": [
    "We can do element-wise functions on a matrix/vector:"
   ]
  },
  {
   "cell_type": "code",
   "execution_count": 72,
   "metadata": {},
   "outputs": [
    {
     "name": "stdout",
     "output_type": "stream",
     "text": [
      "w: [0 1 2 3 4 5]\n",
      "\n",
      "z: [ 0  1  4  9 16 25]\n",
      "\n",
      "z: [  1.           2.71828183   7.3890561   20.08553692  54.59815003\n",
      " 148.4131591 ]\n"
     ]
    }
   ],
   "source": [
    "print(f'w: {w}')\n",
    "z = w ** 2 \n",
    "print(f'\\nz: {z}')\n",
    "\n",
    "z = np.exp(w)\n",
    "print(f'\\nz: {z}')\n"
   ]
  },
  {
   "cell_type": "markdown",
   "metadata": {},
   "source": [
    "## Slicing and Indexing NumPy Arrays\n",
    "You can index a portion of an array using \"slicing\":"
   ]
  },
  {
   "cell_type": "code",
   "execution_count": 73,
   "metadata": {},
   "outputs": [
    {
     "name": "stdout",
     "output_type": "stream",
     "text": [
      "x: [0 1 2 3 4 5 6 7 8 9]\n",
      "x-shape: (10,)\n",
      "\n",
      "x[0:4]: [0 1 2 3]\n",
      "x[0:4]-shape: (4,)\n",
      "\n",
      "x[:4]: [0 1 2 3]\n",
      "x[:4]-shape: (4,)\n",
      "\n",
      "x[4:]: [4 5 6 7 8 9]\n",
      "x[4:]-shape: (6,)\n",
      "\n",
      "x[3:7]: [3 4 5 6]\n",
      "x[3:7]-shape: (4,)\n",
      "\n",
      "x[::2]: [0 2 4 6 8]\n",
      "x[::2]-shape: (5,)\n",
      "\n",
      "x[::3]: [0 3 6 9]\n",
      "x[::3]-shape: (4,)\n",
      "\n",
      "x[::-1]: [9 8 7 6 5 4 3 2 1 0]\n",
      "x[::-1]-shape: (10,)\n",
      "\n",
      "x[8:3:-2]: [8 6 4]\n",
      "x[8:3:-2]-shape: (3,)\n"
     ]
    }
   ],
   "source": [
    "x = np.arange(10)\n",
    "print(f'x: {x}')\n",
    "print(f'x-shape: {x.shape}')\n",
    "\n",
    "### the start of an array\n",
    "print(f'\\nx[0:4]: {x[0:4]}')\n",
    "print(f'x[0:4]-shape: {x[0:4].shape}')\n",
    "\n",
    "## can drop the first 0\n",
    "print(f'\\nx[:4]: {x[:4]}')\n",
    "print(f'x[:4]-shape: {x[:4].shape}')\n",
    "\n",
    "### the end of an array\n",
    "print(f'\\nx[4:]: {x[4:]}')\n",
    "print(f'x[4:]-shape: {x[4:].shape}')\n",
    "\n",
    "### the \"middle\" of an array\n",
    "print(f'\\nx[3:7]: {x[3:7]}')\n",
    "print(f'x[3:7]-shape: {x[3:7].shape}')\n",
    "\n",
    "### subsampling an array\n",
    "print(f'\\nx[::2]: {x[::2]}')\n",
    "print(f'x[::2]-shape: {x[::2].shape}')\n",
    "\n",
    "print(f'\\nx[::3]: {x[::3]}')\n",
    "print(f'x[::3]-shape: {x[::3].shape}')\n",
    "\n",
    "## subsampling with negaive step reverses the array\n",
    "print(f'\\nx[::-1]: {x[::-1]}')\n",
    "print(f'x[::-1]-shape: {x[::-1].shape}')\n",
    "\n",
    "## reversing, sub-sampling and slicing all in one...\n",
    "print(f'\\nx[8:3:-2]: {x[8:3:-2]}')\n",
    "print(f'x[8:3:-2]-shape: {x[8:3:-2].shape}')"
   ]
  },
  {
   "cell_type": "markdown",
   "metadata": {},
   "source": [
    "We can also access sub-ranges of 2D arrays:"
   ]
  },
  {
   "cell_type": "code",
   "execution_count": 74,
   "metadata": {},
   "outputs": [
    {
     "name": "stdout",
     "output_type": "stream",
     "text": [
      "A: [[ 0  1  2  3  4  5]\n",
      " [ 6  7  8  9 10 11]\n",
      " [12 13 14 15 16 17]]\n",
      "A-shape: (3, 6)\n",
      "\n",
      "A[:,:3]:\n",
      "[[ 0  1  2]\n",
      " [ 6  7  8]\n",
      " [12 13 14]]\n",
      "A[:,:3]-shape: (3, 3)\n",
      "\n",
      "A[:2,:]:\n",
      "[[ 0  1  2  3  4  5]\n",
      " [ 6  7  8  9 10 11]]\n",
      "A[:2,:]-shape: (2, 6)\n",
      "\n",
      "A[:2,3:]:\n",
      "[[ 3  4  5]\n",
      " [ 9 10 11]]\n",
      "A[:2,3:]-shape: (2, 3)\n"
     ]
    }
   ],
   "source": [
    "A = np.arange(18).reshape((3, 6))\n",
    "print(f'A: {A}')\n",
    "print(f'A-shape: {A.shape}')\n",
    "\n",
    "### First 3 columns of A\n",
    "print(f'\\nA[:,:3]:\\n{A[:,:3]}')\n",
    "print(f'A[:,:3]-shape: {A[:,:3].shape}')\n",
    "\n",
    "### First 2 rows of A\n",
    "print(f'\\nA[:2,:]:\\n{A[:2,:]}')\n",
    "print(f'A[:2,:]-shape: {A[:2,:].shape}')\n",
    "\n",
    "### First 2 rows of A; limited to last 4 columns\n",
    "print(f'\\nA[:2,3:]:\\n{A[:2,3:]}')\n",
    "print(f'A[:2,3:]-shape: {A[:2,3:].shape}')\n"
   ]
  },
  {
   "cell_type": "markdown",
   "metadata": {},
   "source": [
    "Many numpy methods operate over the elements of the array.  For multi-dimensional arrays, we can specify and axis and also use the sub-range indexing methods to operate over sup-ranges of the array.  "
   ]
  },
  {
   "cell_type": "code",
   "execution_count": 75,
   "metadata": {},
   "outputs": [
    {
     "name": "stdout",
     "output_type": "stream",
     "text": [
      "A: [[ 0  1  2  3  4  5]\n",
      " [ 6  7  8  9 10 11]\n",
      " [12 13 14 15 16 17]]\n",
      "A-shape: (3, 6)\n",
      "\n",
      "s:\n",
      "153\n",
      "\n",
      "sum down columns:\n",
      "s:\n",
      "[18 21 24 27 30 33]\n",
      "s-shape: (6,)\n",
      "\n",
      "sum across rows:\n",
      "s:\n",
      "[15 51 87]\n",
      "s-shape: (3,)\n",
      "\n",
      "sum across rows, limited column range:\n",
      "s:\n",
      "[ 5 17 29]\n",
      "s-shape: (3,)\n"
     ]
    }
   ],
   "source": [
    "A = np.arange(18).reshape((3, 6))\n",
    "print(f'A: {A}')\n",
    "print(f'A-shape: {A.shape}')\n",
    "\n",
    "### sum all the elements\n",
    "s = np.sum(A)\n",
    "print(f'\\ns:\\n{s}')\n",
    "\n",
    "print('\\nsum down columns:')\n",
    "s = np.sum(A, axis = 0)\n",
    "print(f's:\\n{s}')\n",
    "print(f's-shape: {s.shape}')\n",
    "\n",
    "print('\\nsum across rows:')\n",
    "s = np.sum(A, axis = 1)\n",
    "print(f's:\\n{s}')\n",
    "print(f's-shape: {s.shape}')\n",
    "\n",
    "print('\\nsum across rows, limited column range:')\n",
    "s = np.sum(A[:, 2:4], axis = 1)\n",
    "print(f's:\\n{s}')\n",
    "print(f's-shape: {s.shape}')\n",
    "\n"
   ]
  },
  {
   "cell_type": "markdown",
   "metadata": {},
   "source": [
    "# Python Gotchas\n",
    "There are a couple of common issues in python that sometimes are gotchas for new users.  One of these is that python assignments are by reference (think pointers).  This means that an assignment is not a deep copy and just a reference back to the original.  This illustrated in the following example:"
   ]
  },
  {
   "cell_type": "code",
   "execution_count": 76,
   "metadata": {},
   "outputs": [
    {
     "name": "stdout",
     "output_type": "stream",
     "text": [
      "x: [0 1 2 3 4]\n",
      "y: [0 1 2 3 4]\n",
      "x: [  0 -10   2   3   4]\n",
      "y: [  0 -10   2   3   4]\n",
      "notice that y[1] changed with the assignment of x[1]\n",
      "x: [  0 -10   2   3   4]\n",
      "y: [0 1 2 3 4]\n",
      "notice that y[1] did not change with the assignment of x[1]\n"
     ]
    }
   ],
   "source": [
    "x = np.arange(5)\n",
    "y = x\n",
    "print(f'x: {x}')\n",
    "print(f'y: {y}')\n",
    "\n",
    "x[1] = -10\n",
    "print(f'x: {x}')\n",
    "print(f'y: {y}')\n",
    "print('notice that y[1] changed with the assignment of x[1]')\n",
    "\n",
    "x = np.arange(5)\n",
    "y = np.copy(x)\n",
    "x[1] = -10\n",
    "print(f'x: {x}')\n",
    "print(f'y: {y}')\n",
    "print('notice that y[1] did not change with the assignment of x[1]')\n"
   ]
  },
  {
   "cell_type": "markdown",
   "metadata": {},
   "source": [
    "Another potential gotcha is that you can assign to pretty much anything in python.  This can lead to bad consequences if you make a mistake.  Here's an example:"
   ]
  },
  {
   "cell_type": "code",
   "execution_count": 77,
   "metadata": {},
   "outputs": [
    {
     "ename": "TypeError",
     "evalue": "'int' object is not callable",
     "output_type": "error",
     "traceback": [
      "\u001b[0;31m---------------------------------------------------------------------------\u001b[0m",
      "\u001b[0;31mTypeError\u001b[0m                                 Traceback (most recent call last)",
      "\u001b[0;32m/var/folders/7k/k7q0y8tj3m7cvt7h2_pgwr6m0000gn/T/ipykernel_6571/3648814785.py\u001b[0m in \u001b[0;36m<module>\u001b[0;34m\u001b[0m\n\u001b[0;32m----> 1\u001b[0;31m \u001b[0my\u001b[0m \u001b[0;34m=\u001b[0m \u001b[0mnp\u001b[0m\u001b[0;34m.\u001b[0m\u001b[0msin\u001b[0m\u001b[0;34m(\u001b[0m\u001b[0mnp\u001b[0m\u001b[0;34m.\u001b[0m\u001b[0mpi\u001b[0m \u001b[0;34m/\u001b[0m \u001b[0;36m3\u001b[0m\u001b[0;34m)\u001b[0m\u001b[0;34m\u001b[0m\u001b[0;34m\u001b[0m\u001b[0m\n\u001b[0m\u001b[1;32m      2\u001b[0m \u001b[0mprint\u001b[0m\u001b[0;34m(\u001b[0m\u001b[0;34mf'y: {y}'\u001b[0m\u001b[0;34m)\u001b[0m\u001b[0;34m\u001b[0m\u001b[0;34m\u001b[0m\u001b[0m\n\u001b[1;32m      3\u001b[0m \u001b[0;34m\u001b[0m\u001b[0m\n\u001b[1;32m      4\u001b[0m \u001b[0;31m## this is an error because np.sin() has been reassigned to be the integer 2 and is therefore not a function anymore!\u001b[0m\u001b[0;34m\u001b[0m\u001b[0;34m\u001b[0m\u001b[0;34m\u001b[0m\u001b[0m\n\u001b[1;32m      5\u001b[0m \u001b[0mnp\u001b[0m\u001b[0;34m.\u001b[0m\u001b[0msin\u001b[0m \u001b[0;34m=\u001b[0m \u001b[0;36m2\u001b[0m\u001b[0;34m\u001b[0m\u001b[0;34m\u001b[0m\u001b[0m\n",
      "\u001b[0;31mTypeError\u001b[0m: 'int' object is not callable"
     ]
    }
   ],
   "source": [
    "## this is an error because np.sin() has been reassigned to be the integer 2 and is therefore not a function anymore!\n",
    "np.sin = 2\n",
    "y = np.sin(np.pi / 3)\n",
    "print(f'y: {y}') \n"
   ]
  },
  {
   "cell_type": "code",
   "execution_count": null,
   "metadata": {},
   "outputs": [],
   "source": []
  }
 ],
 "metadata": {
  "interpreter": {
   "hash": "6200758b7673adf34ae50bfa4217006f2c557feffe45080c236eaee64db53788"
  },
  "kernelspec": {
   "display_name": "Python 3.8.12 64-bit ('ee364': conda)",
   "language": "python",
   "name": "python3"
  },
  "language_info": {
   "codemirror_mode": {
    "name": "ipython",
    "version": 3
   },
   "file_extension": ".py",
   "mimetype": "text/x-python",
   "name": "python",
   "nbconvert_exporter": "python",
   "pygments_lexer": "ipython3",
   "version": "3.8.12"
  },
  "orig_nbformat": 4
 },
 "nbformat": 4,
 "nbformat_minor": 2
}
