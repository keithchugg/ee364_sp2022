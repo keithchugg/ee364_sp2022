{
 "cells": [
  {
   "cell_type": "markdown",
   "metadata": {},
   "source": [
    "# EE364 Coin Flipping Example\n",
    "This is a simple example for a random experiment that we will perform as a class in our first meeting.  It illustrates a number of topics in the class which we will discuss during the semester, including the difference between probability and statistics.  We can return to this as we progress during the semester."
   ]
  },
  {
   "cell_type": "code",
   "execution_count": 26,
   "metadata": {},
   "outputs": [],
   "source": [
    "import numpy as np\n",
    "import scipy.stats as stats\n",
    "import matplotlib as mpl\n",
    "import matplotlib.pyplot as plt"
   ]
  },
  {
   "cell_type": "markdown",
   "metadata": {},
   "source": [
    "This simulates a class of size `N_students` where each student flips a coin (with heads probability `p`) `N_flips` times.  "
   ]
  },
  {
   "cell_type": "code",
   "execution_count": 27,
   "metadata": {},
   "outputs": [],
   "source": [
    "N_students = 10000 # <<---- change this to adjust class size\n",
    "N_flips = 10\n",
    "p = 0.5\n",
    "np.random.seed(123)  # <<---- change this to get a \"new class\""
   ]
  },
  {
   "cell_type": "markdown",
   "metadata": {},
   "source": [
    "This is a well-known problem in probability, so the results for the theoretical model for this experiment are built into Python.  The following code snippet produces an array `binomial_pmf` with `binomial_pmf[k]` being the probability that `k` heads will be observed when a coin is flipped `N_flips` times."
   ]
  },
  {
   "cell_type": "code",
   "execution_count": 28,
   "metadata": {},
   "outputs": [],
   "source": [
    "heads = np.arange(0, N_flips + 1)\n",
    "binomial_pmf = stats.binom.pmf(heads, N_flips, p)"
   ]
  },
  {
   "cell_type": "markdown",
   "metadata": {},
   "source": [
    "Python also has built-in functions to run this experiment `N_students` times -- note that this is different from the theory above since it is simulating the actual random experiments of flipping the coin."
   ]
  },
  {
   "cell_type": "code",
   "execution_count": 29,
   "metadata": {},
   "outputs": [],
   "source": [
    "flip_results = np.random.binomial(N_flips, p, N_students)\n",
    "flip_counts = np.zeros(N_flips + 1)\n",
    "\n",
    "\n",
    "## count the number of times k flips were obtained in these N_students experiments\n",
    "for k in range(N_flips + 1):\n",
    "    flip_counts[k] = np.sum(flip_results == k)\n"
   ]
  },
  {
   "cell_type": "markdown",
   "metadata": {},
   "source": [
    "This code below computes an estimate of `pmf_hat[k]`, the probability of getting `k` heads out of `N_flips` flips, as the relative frequency of occurance of heads during the experiments.  It also computes a \"Margin of Error\" for our estimate, which is a measure of our statistcial confidence in this estimate. "
   ]
  },
  {
   "cell_type": "code",
   "execution_count": 30,
   "metadata": {},
   "outputs": [
    {
     "name": "stdout",
     "output_type": "stream",
     "text": [
      "number of students = 10000\n",
      "number of flips =  10\n",
      "probability of heads = 0.5\n",
      "\n",
      "k\tpmf(k)\t\tn(k)\tpmf_hat(k)\tMOE(k)\n",
      "0:\t 9.7656e-04\t  12\t 1.2000e-03\t 0.0006786\n",
      "1:\t 9.7656e-03\t 102\t 1.0200e-02\t 0.001969\n",
      "2:\t 4.3945e-02\t 428\t 4.2800e-02\t 0.003967\n",
      "3:\t 1.1719e-01\t 1216\t 1.2160e-01\t 0.006406\n",
      "4:\t 2.0508e-01\t 2030\t 2.0300e-01\t 0.007884\n",
      "5:\t 2.4609e-01\t 2435\t 2.4350e-01\t 0.008412\n",
      "6:\t 2.0508e-01\t 2115\t 2.1150e-01\t 0.008004\n",
      "7:\t 1.1719e-01\t 1125\t 1.1250e-01\t 0.006193\n",
      "8:\t 4.3945e-02\t 448\t 4.4800e-02\t 0.004055\n",
      "9:\t 9.7656e-03\t  79\t 7.9000e-03\t 0.001735\n",
      "10:\t 9.7656e-04\t  10\t 1.0000e-03\t 0.0006195\n"
     ]
    }
   ],
   "source": [
    "pmf_hat = flip_counts / N_students\n",
    "MOE = np.zeros((2, N_flips + 1))  ## upper and lower error range for each \n",
    "MOE[0] = 1.96 * np.sqrt( pmf_hat * (1.0 - pmf_hat) / N_students  )\n",
    " \n",
    "print(f'number of students = {N_students}')\n",
    "print(f'number of flips =  {N_flips}')\n",
    "print(f'probability of heads = {p}')\n",
    "print('\\nk\\tpmf(k)\\t\\tn(k)\\tpmf_hat(k)\\tMOE(k)')\n",
    "\n",
    "for k in range(len(pmf_hat)):\n",
    "    if flip_counts[k] == 0 : \n",
    "        MOE[1][k] = 3 / N_students\n",
    "    else:\n",
    "        MOE[1][k] = MOE[0][k]\n",
    "    print(f'{k}:\\t{binomial_pmf[k] : 0.4e}\\t{flip_counts[k] : 4.0f}\\t{pmf_hat[k] : 0.4e}\\t{MOE[1][k] : 0.4g}')\n",
    "\n",
    "MOE[0] = np.clip(MOE[0], 0, pmf_hat )  # limit confidence region to be > 0 since we know probabilities are >=0\n"
   ]
  },
  {
   "cell_type": "markdown",
   "metadata": {},
   "source": [
    "Finally, let's plot the theoretical model for the probability of getting `k` heads in `N_flips` and compare that to the fraction of students who observed `k` heads during their experiment."
   ]
  },
  {
   "cell_type": "code",
   "execution_count": 31,
   "metadata": {},
   "outputs": [
    {
     "data": {
      "text/plain": [
       "<matplotlib.legend.Legend at 0x1373f8d30>"
      ]
     },
     "execution_count": 31,
     "metadata": {},
     "output_type": "execute_result"
    },
    {
     "data": {
      "image/png": "[encoded data removed]",
      "text/plain": [
       "<Figure size 720x504 with 1 Axes>"
      ]
     },
     "metadata": {
      "needs_background": "light"
     },
     "output_type": "display_data"
    }
   ],
   "source": [
    "# swiped from: https://matplotlib.org/examples/api/barchart_demo.html\n",
    "width = 0.35 \n",
    "mpl.rcParams[\"errorbar.capsize\"] = 4     \n",
    "fig, ax = plt.subplots(figsize=(10,7))\n",
    "rects1 = ax.bar(heads, binomial_pmf, width)\n",
    "rects2 = ax.bar(heads+width, pmf_hat, width, yerr=MOE)\n",
    "ax.set_xticks(heads + width / 2)\n",
    "ax.set_xticklabels(heads)\n",
    "ax.set_title('Results of Coin Flipping Experiment')\n",
    "ax.set_xlabel(f'number of heads in {N_flips} flips')\n",
    "ax.set_ylabel(f'probability or relative frequency')\n",
    "ax.legend((rects1[0], rects2[0]), ('Model', 'Experimental'))"
   ]
  },
  {
   "cell_type": "code",
   "execution_count": null,
   "metadata": {},
   "outputs": [],
   "source": []
  }
 ],
 "metadata": {
  "interpreter": {
   "hash": "6200758b7673adf34ae50bfa4217006f2c557feffe45080c236eaee64db53788"
  },
  "kernelspec": {
   "display_name": "Python 3.8.12 64-bit ('ee364': conda)",
   "language": "python",
   "name": "python3"
  },
  "language_info": {
   "codemirror_mode": {
    "name": "ipython",
    "version": 3
   },
   "file_extension": ".py",
   "mimetype": "text/x-python",
   "name": "python",
   "nbconvert_exporter": "python",
   "pygments_lexer": "ipython3",
   "version": "3.8.12"
  },
  "orig_nbformat": 4
 },
 "nbformat": 4,
 "nbformat_minor": 2
}
